{
 "cells": [
  {
   "cell_type": "markdown",
   "id": "c8c8c0f3",
   "metadata": {},
   "source": [
    " LONG MONTHLY ANALYSIS VS 8"
   ]
  },
  {
   "cell_type": "markdown",
   "id": "81cdfe7a",
   "metadata": {},
   "source": [
    "\n",
    "\n"
   ]
  },
  {
   "cell_type": "code",
   "execution_count": 1,
   "id": "99023c77",
   "metadata": {},
   "outputs": [],
   "source": [
    "import pandas as pd\n",
    "import yfinance as yf\n",
    "import datetime\n",
    "import time\n",
    "import requests\n",
    "import io\n",
    "import numpy as np\n",
    "import PySimpleGUI as sg\n",
    "import xlwt\n",
    "from xlwt.Workbook import *\n",
    "from pandas import ExcelWriter\n",
    "import xlsxwriter\n",
    "import pandas_ta as ta\n",
    "\n",
    "\n"
   ]
  },
  {
   "cell_type": "markdown",
   "id": "52e1896a",
   "metadata": {},
   "source": [
    "# IMPORTING MONTHLY DATABASE"
   ]
  },
  {
   "cell_type": "code",
   "execution_count": 2,
   "id": "32799366",
   "metadata": {},
   "outputs": [],
   "source": [
    "DBdimPath = 'c:/Enigma/DataBase/'"
   ]
  },
  {
   "cell_type": "code",
   "execution_count": 3,
   "id": "09f9e01b",
   "metadata": {},
   "outputs": [],
   "source": [
    "#import DB#"
   ]
  },
  {
   "cell_type": "code",
   "execution_count": 4,
   "id": "5b0484d4",
   "metadata": {},
   "outputs": [
    {
     "data": {
      "text/html": [
       "<div>\n",
       "<style scoped>\n",
       "    .dataframe tbody tr th:only-of-type {\n",
       "        vertical-align: middle;\n",
       "    }\n",
       "\n",
       "    .dataframe tbody tr th {\n",
       "        vertical-align: top;\n",
       "    }\n",
       "\n",
       "    .dataframe thead th {\n",
       "        text-align: right;\n",
       "    }\n",
       "</style>\n",
       "<table border=\"1\" class=\"dataframe\">\n",
       "  <thead>\n",
       "    <tr style=\"text-align: right;\">\n",
       "      <th></th>\n",
       "      <th>Name</th>\n",
       "      <th>Date</th>\n",
       "      <th>Open</th>\n",
       "      <th>High</th>\n",
       "      <th>Low</th>\n",
       "      <th>Close</th>\n",
       "      <th>Adj_Close</th>\n",
       "      <th>Volume</th>\n",
       "      <th>Ref</th>\n",
       "    </tr>\n",
       "    <tr>\n",
       "      <th>Year/Month</th>\n",
       "      <th></th>\n",
       "      <th></th>\n",
       "      <th></th>\n",
       "      <th></th>\n",
       "      <th></th>\n",
       "      <th></th>\n",
       "      <th></th>\n",
       "      <th></th>\n",
       "      <th></th>\n",
       "    </tr>\n",
       "  </thead>\n",
       "  <tbody>\n",
       "    <tr>\n",
       "      <th>AAPL20101</th>\n",
       "      <td>AAPL</td>\n",
       "      <td>2010-01-29</td>\n",
       "      <td>7.622500</td>\n",
       "      <td>7.699643</td>\n",
       "      <td>6.794643</td>\n",
       "      <td>6.859286</td>\n",
       "      <td>5.873429</td>\n",
       "      <td>15168994400</td>\n",
       "      <td>AAPL2010-01-29</td>\n",
       "    </tr>\n",
       "    <tr>\n",
       "      <th>AAPL20102</th>\n",
       "      <td>AAPL</td>\n",
       "      <td>2010-02-26</td>\n",
       "      <td>6.870357</td>\n",
       "      <td>7.327500</td>\n",
       "      <td>6.816071</td>\n",
       "      <td>7.307857</td>\n",
       "      <td>6.257529</td>\n",
       "      <td>10776080000</td>\n",
       "      <td>AAPL2010-02-26</td>\n",
       "    </tr>\n",
       "    <tr>\n",
       "      <th>AAPL20103</th>\n",
       "      <td>AAPL</td>\n",
       "      <td>2010-03-31</td>\n",
       "      <td>7.348214</td>\n",
       "      <td>8.481429</td>\n",
       "      <td>7.337500</td>\n",
       "      <td>8.392857</td>\n",
       "      <td>7.186586</td>\n",
       "      <td>12154172800</td>\n",
       "      <td>AAPL2010-03-31</td>\n",
       "    </tr>\n",
       "    <tr>\n",
       "      <th>AAPL20104</th>\n",
       "      <td>AAPL</td>\n",
       "      <td>2010-04-30</td>\n",
       "      <td>8.478929</td>\n",
       "      <td>9.730714</td>\n",
       "      <td>8.312500</td>\n",
       "      <td>9.324643</td>\n",
       "      <td>7.984448</td>\n",
       "      <td>12367129600</td>\n",
       "      <td>AAPL2010-04-30</td>\n",
       "    </tr>\n",
       "    <tr>\n",
       "      <th>AAPL20105</th>\n",
       "      <td>AAPL</td>\n",
       "      <td>2010-05-28</td>\n",
       "      <td>9.422857</td>\n",
       "      <td>9.567143</td>\n",
       "      <td>7.116071</td>\n",
       "      <td>9.174286</td>\n",
       "      <td>7.855702</td>\n",
       "      <td>18082654800</td>\n",
       "      <td>AAPL2010-05-28</td>\n",
       "    </tr>\n",
       "    <tr>\n",
       "      <th>...</th>\n",
       "      <td>...</td>\n",
       "      <td>...</td>\n",
       "      <td>...</td>\n",
       "      <td>...</td>\n",
       "      <td>...</td>\n",
       "      <td>...</td>\n",
       "      <td>...</td>\n",
       "      <td>...</td>\n",
       "      <td>...</td>\n",
       "    </tr>\n",
       "    <tr>\n",
       "      <th>TSLA202110</th>\n",
       "      <td>TSLA</td>\n",
       "      <td>2021-10-29</td>\n",
       "      <td>778.400024</td>\n",
       "      <td>1115.209961</td>\n",
       "      <td>763.590027</td>\n",
       "      <td>1114.000000</td>\n",
       "      <td>1114.000000</td>\n",
       "      <td>528800500</td>\n",
       "      <td>TSLA2021-10-29</td>\n",
       "    </tr>\n",
       "    <tr>\n",
       "      <th>TSLA202111</th>\n",
       "      <td>TSLA</td>\n",
       "      <td>2021-11-30</td>\n",
       "      <td>1145.000000</td>\n",
       "      <td>1243.489990</td>\n",
       "      <td>978.599976</td>\n",
       "      <td>1144.760010</td>\n",
       "      <td>1144.760010</td>\n",
       "      <td>648671800</td>\n",
       "      <td>TSLA2021-11-30</td>\n",
       "    </tr>\n",
       "    <tr>\n",
       "      <th>TSLA202112</th>\n",
       "      <td>TSLA</td>\n",
       "      <td>2021-12-31</td>\n",
       "      <td>1160.699951</td>\n",
       "      <td>1172.839966</td>\n",
       "      <td>886.119995</td>\n",
       "      <td>1056.780029</td>\n",
       "      <td>1056.780029</td>\n",
       "      <td>509945100</td>\n",
       "      <td>TSLA2021-12-31</td>\n",
       "    </tr>\n",
       "    <tr>\n",
       "      <th>TSLA20221</th>\n",
       "      <td>TSLA</td>\n",
       "      <td>2022-01-31</td>\n",
       "      <td>1147.750000</td>\n",
       "      <td>1208.000000</td>\n",
       "      <td>792.010010</td>\n",
       "      <td>936.719971</td>\n",
       "      <td>936.719971</td>\n",
       "      <td>638471400</td>\n",
       "      <td>TSLA2022-01-31</td>\n",
       "    </tr>\n",
       "    <tr>\n",
       "      <th>TSLA20222</th>\n",
       "      <td>TSLA</td>\n",
       "      <td>2022-02-28</td>\n",
       "      <td>935.210022</td>\n",
       "      <td>947.770020</td>\n",
       "      <td>700.000000</td>\n",
       "      <td>862.705017</td>\n",
       "      <td>862.705017</td>\n",
       "      <td>460228579</td>\n",
       "      <td>TSLA2022-02-28</td>\n",
       "    </tr>\n",
       "  </tbody>\n",
       "</table>\n",
       "<p>2096 rows × 9 columns</p>\n",
       "</div>"
      ],
      "text/plain": [
       "            Name        Date         Open         High         Low  \\\n",
       "Year/Month                                                           \n",
       "AAPL20101   AAPL  2010-01-29     7.622500     7.699643    6.794643   \n",
       "AAPL20102   AAPL  2010-02-26     6.870357     7.327500    6.816071   \n",
       "AAPL20103   AAPL  2010-03-31     7.348214     8.481429    7.337500   \n",
       "AAPL20104   AAPL  2010-04-30     8.478929     9.730714    8.312500   \n",
       "AAPL20105   AAPL  2010-05-28     9.422857     9.567143    7.116071   \n",
       "...          ...         ...          ...          ...         ...   \n",
       "TSLA202110  TSLA  2021-10-29   778.400024  1115.209961  763.590027   \n",
       "TSLA202111  TSLA  2021-11-30  1145.000000  1243.489990  978.599976   \n",
       "TSLA202112  TSLA  2021-12-31  1160.699951  1172.839966  886.119995   \n",
       "TSLA20221   TSLA  2022-01-31  1147.750000  1208.000000  792.010010   \n",
       "TSLA20222   TSLA  2022-02-28   935.210022   947.770020  700.000000   \n",
       "\n",
       "                  Close    Adj_Close       Volume             Ref  \n",
       "Year/Month                                                         \n",
       "AAPL20101      6.859286     5.873429  15168994400  AAPL2010-01-29  \n",
       "AAPL20102      7.307857     6.257529  10776080000  AAPL2010-02-26  \n",
       "AAPL20103      8.392857     7.186586  12154172800  AAPL2010-03-31  \n",
       "AAPL20104      9.324643     7.984448  12367129600  AAPL2010-04-30  \n",
       "AAPL20105      9.174286     7.855702  18082654800  AAPL2010-05-28  \n",
       "...                 ...          ...          ...             ...  \n",
       "TSLA202110  1114.000000  1114.000000    528800500  TSLA2021-10-29  \n",
       "TSLA202111  1144.760010  1144.760010    648671800  TSLA2021-11-30  \n",
       "TSLA202112  1056.780029  1056.780029    509945100  TSLA2021-12-31  \n",
       "TSLA20221    936.719971   936.719971    638471400  TSLA2022-01-31  \n",
       "TSLA20222    862.705017   862.705017    460228579  TSLA2022-02-28  \n",
       "\n",
       "[2096 rows x 9 columns]"
      ]
     },
     "execution_count": 4,
     "metadata": {},
     "output_type": "execute_result"
    }
   ],
   "source": [
    "mdb = pd.DataFrame()\n",
    "\n",
    "mdb = pd.read_csv(DBdimPath + 'monthly_db.csv')\n",
    "\n",
    "mdb.set_index('Year/Month')\n"
   ]
  },
  {
   "cell_type": "markdown",
   "id": "043aeb89-98e4-4204-927c-7915ae00bea3",
   "metadata": {},
   "source": [
    "# IMPORTING DAILY DATABASE"
   ]
  },
  {
   "cell_type": "code",
   "execution_count": 5,
   "id": "4b86890d",
   "metadata": {},
   "outputs": [
    {
     "data": {
      "text/html": [
       "<div>\n",
       "<style scoped>\n",
       "    .dataframe tbody tr th:only-of-type {\n",
       "        vertical-align: middle;\n",
       "    }\n",
       "\n",
       "    .dataframe tbody tr th {\n",
       "        vertical-align: top;\n",
       "    }\n",
       "\n",
       "    .dataframe thead th {\n",
       "        text-align: right;\n",
       "    }\n",
       "</style>\n",
       "<table border=\"1\" class=\"dataframe\">\n",
       "  <thead>\n",
       "    <tr style=\"text-align: right;\">\n",
       "      <th></th>\n",
       "      <th>Ref</th>\n",
       "      <th>Name</th>\n",
       "      <th>Date</th>\n",
       "      <th>Open</th>\n",
       "      <th>High</th>\n",
       "      <th>Low</th>\n",
       "      <th>Close</th>\n",
       "      <th>Adj_Close</th>\n",
       "      <th>Volume</th>\n",
       "    </tr>\n",
       "    <tr>\n",
       "      <th>Year/Month/Week</th>\n",
       "      <th></th>\n",
       "      <th></th>\n",
       "      <th></th>\n",
       "      <th></th>\n",
       "      <th></th>\n",
       "      <th></th>\n",
       "      <th></th>\n",
       "      <th></th>\n",
       "      <th></th>\n",
       "    </tr>\n",
       "  </thead>\n",
       "  <tbody>\n",
       "    <tr>\n",
       "      <th>AAPL2010-01-04</th>\n",
       "      <td>AAPL2010-01-04</td>\n",
       "      <td>AAPL</td>\n",
       "      <td>2010-01-04</td>\n",
       "      <td>7.622500</td>\n",
       "      <td>7.660714</td>\n",
       "      <td>7.585000</td>\n",
       "      <td>7.643214</td>\n",
       "      <td>6.544686</td>\n",
       "      <td>493729600</td>\n",
       "    </tr>\n",
       "    <tr>\n",
       "      <th>AAPL2010-01-05</th>\n",
       "      <td>AAPL2010-01-05</td>\n",
       "      <td>AAPL</td>\n",
       "      <td>2010-01-05</td>\n",
       "      <td>7.664286</td>\n",
       "      <td>7.699643</td>\n",
       "      <td>7.616071</td>\n",
       "      <td>7.656429</td>\n",
       "      <td>6.556003</td>\n",
       "      <td>601904800</td>\n",
       "    </tr>\n",
       "    <tr>\n",
       "      <th>AAPL2010-01-06</th>\n",
       "      <td>AAPL2010-01-06</td>\n",
       "      <td>AAPL</td>\n",
       "      <td>2010-01-06</td>\n",
       "      <td>7.656429</td>\n",
       "      <td>7.686786</td>\n",
       "      <td>7.526786</td>\n",
       "      <td>7.534643</td>\n",
       "      <td>6.451719</td>\n",
       "      <td>552160000</td>\n",
       "    </tr>\n",
       "    <tr>\n",
       "      <th>AAPL2010-01-07</th>\n",
       "      <td>AAPL2010-01-07</td>\n",
       "      <td>AAPL</td>\n",
       "      <td>2010-01-07</td>\n",
       "      <td>7.562500</td>\n",
       "      <td>7.571429</td>\n",
       "      <td>7.466071</td>\n",
       "      <td>7.520714</td>\n",
       "      <td>6.439793</td>\n",
       "      <td>477131200</td>\n",
       "    </tr>\n",
       "    <tr>\n",
       "      <th>AAPL2010-01-08</th>\n",
       "      <td>AAPL2010-01-08</td>\n",
       "      <td>AAPL</td>\n",
       "      <td>2010-01-08</td>\n",
       "      <td>7.510714</td>\n",
       "      <td>7.571429</td>\n",
       "      <td>7.466429</td>\n",
       "      <td>7.570714</td>\n",
       "      <td>6.482607</td>\n",
       "      <td>447610800</td>\n",
       "    </tr>\n",
       "    <tr>\n",
       "      <th>...</th>\n",
       "      <td>...</td>\n",
       "      <td>...</td>\n",
       "      <td>...</td>\n",
       "      <td>...</td>\n",
       "      <td>...</td>\n",
       "      <td>...</td>\n",
       "      <td>...</td>\n",
       "      <td>...</td>\n",
       "      <td>...</td>\n",
       "    </tr>\n",
       "    <tr>\n",
       "      <th>TSLA2022-02-22</th>\n",
       "      <td>TSLA2022-02-22</td>\n",
       "      <td>TSLA</td>\n",
       "      <td>2022-02-22</td>\n",
       "      <td>834.130005</td>\n",
       "      <td>856.729980</td>\n",
       "      <td>801.099976</td>\n",
       "      <td>821.530029</td>\n",
       "      <td>821.530029</td>\n",
       "      <td>27762700</td>\n",
       "    </tr>\n",
       "    <tr>\n",
       "      <th>TSLA2022-02-23</th>\n",
       "      <td>TSLA2022-02-23</td>\n",
       "      <td>TSLA</td>\n",
       "      <td>2022-02-23</td>\n",
       "      <td>830.429993</td>\n",
       "      <td>835.299988</td>\n",
       "      <td>760.559998</td>\n",
       "      <td>764.039978</td>\n",
       "      <td>764.039978</td>\n",
       "      <td>31752300</td>\n",
       "    </tr>\n",
       "    <tr>\n",
       "      <th>TSLA2022-02-24</th>\n",
       "      <td>TSLA2022-02-24</td>\n",
       "      <td>TSLA</td>\n",
       "      <td>2022-02-24</td>\n",
       "      <td>700.390015</td>\n",
       "      <td>802.479980</td>\n",
       "      <td>700.000000</td>\n",
       "      <td>800.770020</td>\n",
       "      <td>800.770020</td>\n",
       "      <td>45107400</td>\n",
       "    </tr>\n",
       "    <tr>\n",
       "      <th>TSLA2022-02-25</th>\n",
       "      <td>TSLA2022-02-25</td>\n",
       "      <td>TSLA</td>\n",
       "      <td>2022-02-25</td>\n",
       "      <td>809.229980</td>\n",
       "      <td>819.500000</td>\n",
       "      <td>782.400024</td>\n",
       "      <td>809.869995</td>\n",
       "      <td>809.869995</td>\n",
       "      <td>25309500</td>\n",
       "    </tr>\n",
       "    <tr>\n",
       "      <th>TSLA2022-02-28</th>\n",
       "      <td>TSLA2022-02-28</td>\n",
       "      <td>TSLA</td>\n",
       "      <td>2022-02-28</td>\n",
       "      <td>815.010010</td>\n",
       "      <td>876.690002</td>\n",
       "      <td>814.707520</td>\n",
       "      <td>862.705017</td>\n",
       "      <td>862.705017</td>\n",
       "      <td>29695779</td>\n",
       "    </tr>\n",
       "  </tbody>\n",
       "</table>\n",
       "<p>43884 rows × 9 columns</p>\n",
       "</div>"
      ],
      "text/plain": [
       "                            Ref  Name        Date        Open        High  \\\n",
       "Year/Month/Week                                                             \n",
       "AAPL2010-01-04   AAPL2010-01-04  AAPL  2010-01-04    7.622500    7.660714   \n",
       "AAPL2010-01-05   AAPL2010-01-05  AAPL  2010-01-05    7.664286    7.699643   \n",
       "AAPL2010-01-06   AAPL2010-01-06  AAPL  2010-01-06    7.656429    7.686786   \n",
       "AAPL2010-01-07   AAPL2010-01-07  AAPL  2010-01-07    7.562500    7.571429   \n",
       "AAPL2010-01-08   AAPL2010-01-08  AAPL  2010-01-08    7.510714    7.571429   \n",
       "...                         ...   ...         ...         ...         ...   \n",
       "TSLA2022-02-22   TSLA2022-02-22  TSLA  2022-02-22  834.130005  856.729980   \n",
       "TSLA2022-02-23   TSLA2022-02-23  TSLA  2022-02-23  830.429993  835.299988   \n",
       "TSLA2022-02-24   TSLA2022-02-24  TSLA  2022-02-24  700.390015  802.479980   \n",
       "TSLA2022-02-25   TSLA2022-02-25  TSLA  2022-02-25  809.229980  819.500000   \n",
       "TSLA2022-02-28   TSLA2022-02-28  TSLA  2022-02-28  815.010010  876.690002   \n",
       "\n",
       "                        Low       Close   Adj_Close     Volume  \n",
       "Year/Month/Week                                                 \n",
       "AAPL2010-01-04     7.585000    7.643214    6.544686  493729600  \n",
       "AAPL2010-01-05     7.616071    7.656429    6.556003  601904800  \n",
       "AAPL2010-01-06     7.526786    7.534643    6.451719  552160000  \n",
       "AAPL2010-01-07     7.466071    7.520714    6.439793  477131200  \n",
       "AAPL2010-01-08     7.466429    7.570714    6.482607  447610800  \n",
       "...                     ...         ...         ...        ...  \n",
       "TSLA2022-02-22   801.099976  821.530029  821.530029   27762700  \n",
       "TSLA2022-02-23   760.559998  764.039978  764.039978   31752300  \n",
       "TSLA2022-02-24   700.000000  800.770020  800.770020   45107400  \n",
       "TSLA2022-02-25   782.400024  809.869995  809.869995   25309500  \n",
       "TSLA2022-02-28   814.707520  862.705017  862.705017   29695779  \n",
       "\n",
       "[43884 rows x 9 columns]"
      ]
     },
     "execution_count": 5,
     "metadata": {},
     "output_type": "execute_result"
    }
   ],
   "source": [
    "ddb = pd.DataFrame()\n",
    "\n",
    "ddb = pd.read_csv(DBdimPath + 'daily_db.csv')\n",
    "\n",
    "ddb.set_index('Year/Month/Week')"
   ]
  },
  {
   "cell_type": "markdown",
   "id": "d5128b8e",
   "metadata": {},
   "source": [
    "# MONTHLY BUY ARGUMENTS"
   ]
  },
  {
   "cell_type": "code",
   "execution_count": 6,
   "id": "5c9c5533-49db-4bc7-8fbf-4478dbfc0e4c",
   "metadata": {},
   "outputs": [],
   "source": [
    "#Creating Argument Testing Folders#\n",
    "TSTPath = 'c:/Enigma/Monthly/Test_Files/'"
   ]
  },
  {
   "cell_type": "markdown",
   "id": "0b095512",
   "metadata": {},
   "source": [
    "## Monthly Panel "
   ]
  },
  {
   "cell_type": "code",
   "execution_count": 7,
   "id": "d6ff03de",
   "metadata": {},
   "outputs": [],
   "source": [
    "sg.theme('DarkAmber')   # Add a touch of color\n",
    "\n",
    "\n",
    "# All the stuff inside your window.\n",
    "layout = [  [sg.Text('MONTHLY SET-UP')],\n",
    "            [sg.Text('________________')],\n",
    "            [sg.Text('BUY ARGUMENTS')],\n",
    "            [sg.Text('________________')],\n",
    "            [sg.Text('Volume_EMA3'), sg.Checkbox('',default=True)],\n",
    "            [sg.Text('Volume_VAR_%'), sg.Input(5)],\n",
    "            [sg.Text('Candle'), sg.Checkbox('', default=True)],\n",
    "            [sg.Text('MA_Lined'), sg.Checkbox('', default=True)],\n",
    "            [sg.Text('Above_MA20'), sg.Checkbox('', default=True)],\n",
    "            [sg.Text('MA20_Crossed'), sg.Checkbox('', default=True)],\n",
    "            [sg.Text('EMA8'), sg.Checkbox('', default=True)],\n",
    "            [sg.Text('EMA3'), sg.Checkbox('', default=True)],\n",
    "            [sg.Text('Sequince'), sg.Checkbox('', default=True)],\n",
    "            [sg.Text('Trend'), sg.Checkbox('', default=True)],\n",
    "            [sg.Text('Trend_VAR_%'), sg.Input(13) ],\n",
    "            [sg.Text('__________________')],\n",
    "            [sg.Text('SELL ARGUMENTS')],\n",
    "            [sg.Text('__________________')],\n",
    "            [sg.Text('Sell_JOKER'), sg.Checkbox('', default=True)],\n",
    "            [sg.Text('Sell_EMA3'), sg.Checkbox('', default=True)],\n",
    "            [sg.Text('EMA3_Sell_Above_%'), sg.Input(140) ],\n",
    "            [sg.Text('VOL>EMA3'), sg.Checkbox('', default=True)],\n",
    "            [sg.Text('VOL_EMA3_Sell_Above_%'), sg.Input(5) ],\n",
    "            [sg.Text('JOKER_EMA'), sg.Input(8) ],  \n",
    "\n",
    "            [sg.Button('Run')] ]\n",
    "\n",
    "# Create the Window\n",
    "window = sg.Window('Enigma Panel', layout)\n",
    "# Event Loop to process \"events\" and get the \"values\" of the inputs\n",
    "while True:\n",
    "    event, values = window.read()\n",
    "    if event == sg.WIN_CLOSED or event == 'Run': # if user closes window or clicks cancel\n",
    "        break\n",
    "    x= values[0]\n",
    "\n",
    "window.close()"
   ]
  },
  {
   "cell_type": "code",
   "execution_count": 8,
   "id": "dab6445c",
   "metadata": {},
   "outputs": [],
   "source": [
    "\n",
    "\n",
    "if values[0] is True:\n",
    "    Vol_EMA3_exe = 1\n",
    "else:\n",
    "    Vol_EMA3_exe = 0\n",
    "    \n",
    "    \n",
    "\n",
    "Above_VOL_exe = values[1]\n",
    "\n",
    " \n",
    "if values[2] is True:\n",
    "    Candle_exe = 1\n",
    "else:\n",
    "    Candle_exe = 0\n",
    "    \n",
    "    \n",
    "    \n",
    "if values[3] is True:\n",
    "    MA_Lined_exe = 1\n",
    "else:\n",
    "    MA_Lined_exe = 0\n",
    "    \n",
    "\n",
    "if values[4] is True:\n",
    "    Above_MA20_exe = 1\n",
    "else:\n",
    "    Above_MA20_exe = 0\n",
    "    \n",
    "    \n",
    "    \n",
    "if values[5] is True:\n",
    "    MA20_Crossed_exe = 1\n",
    "else:\n",
    "    MA20_Crossed_exe = 0\n",
    "    \n",
    "    \n",
    "\n",
    "if values[6] is True:\n",
    "    EMA8_exe = 1\n",
    "else:\n",
    "    EMA8_exe = 0\n",
    "   \n",
    "\n",
    "if values[7] is True:\n",
    "    EMA3_exe = 1\n",
    "else:\n",
    "    EMA3_exe = 0\n",
    "   \n",
    "\n",
    "\n",
    " \n",
    "if values[8] is True:\n",
    "    Sequince_exe = 1\n",
    "else:\n",
    "    Sequince_exe = 0    \n",
    "    \n",
    "    \n",
    "    \n",
    "if values[9] is True:\n",
    "    Trend_exe = 1\n",
    "else:\n",
    "    Trend_exe = 0  \n",
    "    \n",
    "    \n",
    "Trend_GAP_exe = values[10]\n",
    "\n",
    "if Above_VOL_exe !='':\n",
    "    Above_VOL_exe = int(Above_VOL_exe)/100\n",
    "else:\n",
    "    Above_VOL_exe=0\n",
    "    \n",
    "    \n",
    "if Trend_GAP_exe !='':\n",
    "    Trend_GAP_exe = int(Trend_GAP_exe)/100\n",
    "else:\n",
    "    Trend_GAP_exe=0\n",
    "    \n",
    "if values[11] is True:\n",
    "    Sell_EMA8_exe = 1\n",
    "else:\n",
    "    Sell_EMA8_exe = 0     \n",
    "    \n",
    "if values[12] is True:\n",
    "    Sell_EMA3_exe = 1\n",
    "else:\n",
    "    Sell_EMA3_exe = 0         \n",
    "    \n",
    "EMA_Sell_Above_exe = values[13]\n",
    "    \n",
    "if EMA_Sell_Above_exe !='':\n",
    "    EMA_Sell_Above_exe = int(EMA_Sell_Above_exe)/100\n",
    "else:\n",
    "    EMA_Sell_Above_exe=0\n",
    "    \n",
    "    \n",
    "    \n",
    "if values[14] is True:\n",
    "    VOL_EMA3_exe = 1\n",
    "else:\n",
    "    VOL_EMA3_exe = 0     \n",
    "        \n",
    "    \n",
    "    \n",
    "    \n",
    "    \n",
    "VOL_EMA3_Sell_Above  = values[15]\n",
    "    \n",
    "if VOL_EMA3_Sell_Above !='':\n",
    "    VOL_EMA3_Sell_Above = int(VOL_EMA3_Sell_Above)/100\n",
    "else:\n",
    "    VOL_EMA3_Sell_Above = 0\n"
   ]
  },
  {
   "cell_type": "markdown",
   "id": "88c1183a",
   "metadata": {},
   "source": [
    "## Candle ARG "
   ]
  },
  {
   "cell_type": "code",
   "execution_count": 9,
   "id": "2cf498b7",
   "metadata": {},
   "outputs": [],
   "source": [
    "mdb[\"Candle\"] = 0\n"
   ]
  },
  {
   "cell_type": "code",
   "execution_count": 10,
   "id": "1ed91868",
   "metadata": {},
   "outputs": [],
   "source": [
    "# Define Green / Red Candle Argument#\n",
    "#Green =1, Red =0#"
   ]
  },
  {
   "cell_type": "code",
   "execution_count": 11,
   "id": "63c5092a",
   "metadata": {},
   "outputs": [],
   "source": [
    "if Candle_exe==0:\n",
    "    mdb[\"Candle\"]=0\n",
    "else:\n",
    "    mdb[\"Candle\"] = np.where(mdb[\"Open\"] < mdb[\"Close\"], 1, 0)\n"
   ]
  },
  {
   "cell_type": "code",
   "execution_count": 12,
   "id": "c1d175ee",
   "metadata": {},
   "outputs": [
    {
     "data": {
      "text/html": [
       "<div>\n",
       "<style scoped>\n",
       "    .dataframe tbody tr th:only-of-type {\n",
       "        vertical-align: middle;\n",
       "    }\n",
       "\n",
       "    .dataframe tbody tr th {\n",
       "        vertical-align: top;\n",
       "    }\n",
       "\n",
       "    .dataframe thead th {\n",
       "        text-align: right;\n",
       "    }\n",
       "</style>\n",
       "<table border=\"1\" class=\"dataframe\">\n",
       "  <thead>\n",
       "    <tr style=\"text-align: right;\">\n",
       "      <th></th>\n",
       "      <th>Name</th>\n",
       "      <th>Date</th>\n",
       "      <th>Open</th>\n",
       "      <th>High</th>\n",
       "      <th>Low</th>\n",
       "      <th>Close</th>\n",
       "      <th>Adj_Close</th>\n",
       "      <th>Volume</th>\n",
       "      <th>Ref</th>\n",
       "      <th>Candle</th>\n",
       "    </tr>\n",
       "    <tr>\n",
       "      <th>Year/Month</th>\n",
       "      <th></th>\n",
       "      <th></th>\n",
       "      <th></th>\n",
       "      <th></th>\n",
       "      <th></th>\n",
       "      <th></th>\n",
       "      <th></th>\n",
       "      <th></th>\n",
       "      <th></th>\n",
       "      <th></th>\n",
       "    </tr>\n",
       "  </thead>\n",
       "  <tbody>\n",
       "    <tr>\n",
       "      <th>AAPL20101</th>\n",
       "      <td>AAPL</td>\n",
       "      <td>2010-01-29</td>\n",
       "      <td>7.622500</td>\n",
       "      <td>7.699643</td>\n",
       "      <td>6.794643</td>\n",
       "      <td>6.859286</td>\n",
       "      <td>5.873429</td>\n",
       "      <td>15168994400</td>\n",
       "      <td>AAPL2010-01-29</td>\n",
       "      <td>0</td>\n",
       "    </tr>\n",
       "    <tr>\n",
       "      <th>AAPL20102</th>\n",
       "      <td>AAPL</td>\n",
       "      <td>2010-02-26</td>\n",
       "      <td>6.870357</td>\n",
       "      <td>7.327500</td>\n",
       "      <td>6.816071</td>\n",
       "      <td>7.307857</td>\n",
       "      <td>6.257529</td>\n",
       "      <td>10776080000</td>\n",
       "      <td>AAPL2010-02-26</td>\n",
       "      <td>1</td>\n",
       "    </tr>\n",
       "    <tr>\n",
       "      <th>AAPL20103</th>\n",
       "      <td>AAPL</td>\n",
       "      <td>2010-03-31</td>\n",
       "      <td>7.348214</td>\n",
       "      <td>8.481429</td>\n",
       "      <td>7.337500</td>\n",
       "      <td>8.392857</td>\n",
       "      <td>7.186586</td>\n",
       "      <td>12154172800</td>\n",
       "      <td>AAPL2010-03-31</td>\n",
       "      <td>1</td>\n",
       "    </tr>\n",
       "    <tr>\n",
       "      <th>AAPL20104</th>\n",
       "      <td>AAPL</td>\n",
       "      <td>2010-04-30</td>\n",
       "      <td>8.478929</td>\n",
       "      <td>9.730714</td>\n",
       "      <td>8.312500</td>\n",
       "      <td>9.324643</td>\n",
       "      <td>7.984448</td>\n",
       "      <td>12367129600</td>\n",
       "      <td>AAPL2010-04-30</td>\n",
       "      <td>1</td>\n",
       "    </tr>\n",
       "    <tr>\n",
       "      <th>AAPL20105</th>\n",
       "      <td>AAPL</td>\n",
       "      <td>2010-05-28</td>\n",
       "      <td>9.422857</td>\n",
       "      <td>9.567143</td>\n",
       "      <td>7.116071</td>\n",
       "      <td>9.174286</td>\n",
       "      <td>7.855702</td>\n",
       "      <td>18082654800</td>\n",
       "      <td>AAPL2010-05-28</td>\n",
       "      <td>0</td>\n",
       "    </tr>\n",
       "    <tr>\n",
       "      <th>...</th>\n",
       "      <td>...</td>\n",
       "      <td>...</td>\n",
       "      <td>...</td>\n",
       "      <td>...</td>\n",
       "      <td>...</td>\n",
       "      <td>...</td>\n",
       "      <td>...</td>\n",
       "      <td>...</td>\n",
       "      <td>...</td>\n",
       "      <td>...</td>\n",
       "    </tr>\n",
       "    <tr>\n",
       "      <th>TSLA202110</th>\n",
       "      <td>TSLA</td>\n",
       "      <td>2021-10-29</td>\n",
       "      <td>778.400024</td>\n",
       "      <td>1115.209961</td>\n",
       "      <td>763.590027</td>\n",
       "      <td>1114.000000</td>\n",
       "      <td>1114.000000</td>\n",
       "      <td>528800500</td>\n",
       "      <td>TSLA2021-10-29</td>\n",
       "      <td>1</td>\n",
       "    </tr>\n",
       "    <tr>\n",
       "      <th>TSLA202111</th>\n",
       "      <td>TSLA</td>\n",
       "      <td>2021-11-30</td>\n",
       "      <td>1145.000000</td>\n",
       "      <td>1243.489990</td>\n",
       "      <td>978.599976</td>\n",
       "      <td>1144.760010</td>\n",
       "      <td>1144.760010</td>\n",
       "      <td>648671800</td>\n",
       "      <td>TSLA2021-11-30</td>\n",
       "      <td>0</td>\n",
       "    </tr>\n",
       "    <tr>\n",
       "      <th>TSLA202112</th>\n",
       "      <td>TSLA</td>\n",
       "      <td>2021-12-31</td>\n",
       "      <td>1160.699951</td>\n",
       "      <td>1172.839966</td>\n",
       "      <td>886.119995</td>\n",
       "      <td>1056.780029</td>\n",
       "      <td>1056.780029</td>\n",
       "      <td>509945100</td>\n",
       "      <td>TSLA2021-12-31</td>\n",
       "      <td>0</td>\n",
       "    </tr>\n",
       "    <tr>\n",
       "      <th>TSLA20221</th>\n",
       "      <td>TSLA</td>\n",
       "      <td>2022-01-31</td>\n",
       "      <td>1147.750000</td>\n",
       "      <td>1208.000000</td>\n",
       "      <td>792.010010</td>\n",
       "      <td>936.719971</td>\n",
       "      <td>936.719971</td>\n",
       "      <td>638471400</td>\n",
       "      <td>TSLA2022-01-31</td>\n",
       "      <td>0</td>\n",
       "    </tr>\n",
       "    <tr>\n",
       "      <th>TSLA20222</th>\n",
       "      <td>TSLA</td>\n",
       "      <td>2022-02-28</td>\n",
       "      <td>935.210022</td>\n",
       "      <td>947.770020</td>\n",
       "      <td>700.000000</td>\n",
       "      <td>862.705017</td>\n",
       "      <td>862.705017</td>\n",
       "      <td>460228579</td>\n",
       "      <td>TSLA2022-02-28</td>\n",
       "      <td>0</td>\n",
       "    </tr>\n",
       "  </tbody>\n",
       "</table>\n",
       "<p>2096 rows × 10 columns</p>\n",
       "</div>"
      ],
      "text/plain": [
       "            Name        Date         Open         High         Low  \\\n",
       "Year/Month                                                           \n",
       "AAPL20101   AAPL  2010-01-29     7.622500     7.699643    6.794643   \n",
       "AAPL20102   AAPL  2010-02-26     6.870357     7.327500    6.816071   \n",
       "AAPL20103   AAPL  2010-03-31     7.348214     8.481429    7.337500   \n",
       "AAPL20104   AAPL  2010-04-30     8.478929     9.730714    8.312500   \n",
       "AAPL20105   AAPL  2010-05-28     9.422857     9.567143    7.116071   \n",
       "...          ...         ...          ...          ...         ...   \n",
       "TSLA202110  TSLA  2021-10-29   778.400024  1115.209961  763.590027   \n",
       "TSLA202111  TSLA  2021-11-30  1145.000000  1243.489990  978.599976   \n",
       "TSLA202112  TSLA  2021-12-31  1160.699951  1172.839966  886.119995   \n",
       "TSLA20221   TSLA  2022-01-31  1147.750000  1208.000000  792.010010   \n",
       "TSLA20222   TSLA  2022-02-28   935.210022   947.770020  700.000000   \n",
       "\n",
       "                  Close    Adj_Close       Volume             Ref  Candle  \n",
       "Year/Month                                                                 \n",
       "AAPL20101      6.859286     5.873429  15168994400  AAPL2010-01-29       0  \n",
       "AAPL20102      7.307857     6.257529  10776080000  AAPL2010-02-26       1  \n",
       "AAPL20103      8.392857     7.186586  12154172800  AAPL2010-03-31       1  \n",
       "AAPL20104      9.324643     7.984448  12367129600  AAPL2010-04-30       1  \n",
       "AAPL20105      9.174286     7.855702  18082654800  AAPL2010-05-28       0  \n",
       "...                 ...          ...          ...             ...     ...  \n",
       "TSLA202110  1114.000000  1114.000000    528800500  TSLA2021-10-29       1  \n",
       "TSLA202111  1144.760010  1144.760010    648671800  TSLA2021-11-30       0  \n",
       "TSLA202112  1056.780029  1056.780029    509945100  TSLA2021-12-31       0  \n",
       "TSLA20221    936.719971   936.719971    638471400  TSLA2022-01-31       0  \n",
       "TSLA20222    862.705017   862.705017    460228579  TSLA2022-02-28       0  \n",
       "\n",
       "[2096 rows x 10 columns]"
      ]
     },
     "execution_count": 12,
     "metadata": {},
     "output_type": "execute_result"
    }
   ],
   "source": [
    "mdb.set_index('Year/Month')"
   ]
  },
  {
   "cell_type": "code",
   "execution_count": 13,
   "id": "a4d699d1",
   "metadata": {},
   "outputs": [],
   "source": [
    "# Candle Test File\n",
    "\n",
    "mdb.to_csv(TSTPath + 'M_CandleTST.csv', columns=('Name','Date','Open','Close','Candle'), index=False)\n"
   ]
  },
  {
   "cell_type": "markdown",
   "id": "add9f74c",
   "metadata": {},
   "source": [
    "## Volume Arg "
   ]
  },
  {
   "cell_type": "markdown",
   "id": "9784bca8-c9c9-412e-9c52-d9da990b1edb",
   "metadata": {},
   "source": [
    "### Avg Volume Arg "
   ]
  },
  {
   "cell_type": "code",
   "execution_count": 14,
   "id": "41557cb8",
   "metadata": {},
   "outputs": [],
   "source": [
    "mdb[\"#\"] = mdb.groupby(mdb[\"Name\"]).cumcount() + 1\n"
   ]
  },
  {
   "cell_type": "code",
   "execution_count": 15,
   "id": "9f0aa540",
   "metadata": {},
   "outputs": [
    {
     "data": {
      "text/plain": [
       "146"
      ]
     },
     "execution_count": 15,
     "metadata": {},
     "output_type": "execute_result"
    }
   ],
   "source": [
    "x= mdb['#'].max()\n",
    "x"
   ]
  },
  {
   "cell_type": "code",
   "execution_count": 16,
   "id": "26f077dc",
   "metadata": {},
   "outputs": [],
   "source": [
    "mdb['Accu_Vol'] = mdb.groupby(mdb[\"Name\"]).Volume.cumsum()\n",
    "\n"
   ]
  },
  {
   "cell_type": "code",
   "execution_count": 17,
   "id": "86940b5a",
   "metadata": {},
   "outputs": [],
   "source": [
    "mdb['Avg_Vol'] = mdb['Accu_Vol'] / mdb[\"#\"]"
   ]
  },
  {
   "cell_type": "code",
   "execution_count": 18,
   "id": "1ee2208d",
   "metadata": {},
   "outputs": [],
   "source": [
    "# AVG VOLUME END #"
   ]
  },
  {
   "cell_type": "markdown",
   "id": "a43e0c2b-d7dd-4078-8c1a-f53bfd176746",
   "metadata": {},
   "source": [
    "### EMA3 Volume Arg "
   ]
  },
  {
   "cell_type": "code",
   "execution_count": 19,
   "id": "c1afa1cb",
   "metadata": {},
   "outputs": [],
   "source": [
    "#Vol_EMA3\n",
    "\n",
    "###Calc VOL MA_3###\n",
    "mdb[\"VOL_MA3\"] = mdb.groupby(mdb[\"Name\"]).Volume.transform(lambda c: c.rolling(3).mean())\n",
    "mdb[\"VOL_MA3\"] = mdb[\"VOL_MA3\"].fillna(0)\n",
    "\n",
    "###Calc VOL EMA_3###\n",
    "\n",
    "\n",
    "#mdb.loc[(mdb['#']<3), 'Vol_EMA3'] = 0\n",
    "#mdb.loc[(mdb['#']>=3), 'Vol_EMA3'] = mdb['Volume'].ewm(span=3, adjust=False).mean()\n",
    "\n",
    "mdb.loc[(mdb['#']<3), 'Vol_EMA3'] =  0\n",
    "mdb.loc[(mdb['#']==3), 'Vol_EMA3'] =  mdb[\"Avg_Vol\"]\n",
    "mdb.loc[(mdb['#']>3), 'Vol_EMA3'] = mdb.groupby(mdb[\"Name\"]).Volume.transform(lambda c: c.ewm(span=3, adjust=False).mean())\n",
    "    \n",
    "\n",
    "#count = 0\n",
    "    \n",
    "#while count < x:\n",
    "    \n",
    "        \n",
    "    # mdb.loc[(mdb['#']<3), 'Vol_EMA3'] = 0\n",
    "     #mdb.loc[(mdb['#']==3), 'Vol_EMA3'] = mdb[\"VOL_MA3\"]\n",
    "     #mdb.loc[(mdb['#']>3), 'Vol_EMA3'] = ((mdb[\"Volume\"]*0.5)+(mdb[\"Vol_EMA3\"].shift(1)*(0.5)))\n",
    "        \n",
    "    # count = count + 1\n",
    "                            \n",
    "\n",
    "\n",
    "\n",
    "\n",
    "\n",
    "#mdb[\"Vol_EMA3\"] = mdb.groupby(mdb[\"Name\"]).Volume.transform(lambda c: c.ewm(halflife=3).mean())\n",
    "\n"
   ]
  },
  {
   "cell_type": "markdown",
   "id": "a0663494-7020-4747-b88a-e25e7e1f8816",
   "metadata": {},
   "source": [
    "### EMA8 Volume Arg "
   ]
  },
  {
   "cell_type": "code",
   "execution_count": 20,
   "id": "414298bc",
   "metadata": {},
   "outputs": [],
   "source": [
    "#Vol_EMA8\n",
    "\n",
    "###Calc VOL MA_8###\n",
    "mdb[\"VOL_MA8\"] = mdb.groupby(mdb[\"Name\"]).Volume.transform(lambda c: c.rolling(8).mean())\n",
    "mdb[\"VOL_MA8\"] = mdb[\"VOL_MA8\"].fillna(0)\n",
    "\n",
    "###Calc VOL EMA_8###\n",
    "\n",
    "\n",
    "mdb.loc[(mdb['#']<8), 'Vol_EMA8'] =  0\n",
    "mdb.loc[(mdb['#']==8), 'Vol_EMA8'] =  mdb[\"Avg_Vol\"]\n",
    "mdb.loc[(mdb['#']>8), 'Vol_EMA8'] = mdb.groupby(mdb[\"Name\"]).Volume.transform(lambda c: c.ewm(span=8, adjust=False).mean())\n",
    "    \n",
    "\n",
    "\n",
    "\n",
    "\n",
    "\n",
    "\n",
    "#mdb.loc[(mdb['#']<8), 'Vol_EMA8'] = 0\n",
    "#mdb.loc[(mdb['#']>=8), 'Vol_EMA8'] = mdb['Volume'].ewm(span=8, adjust=False).mean()\n",
    "\n",
    "\n",
    "\n",
    "\n",
    "\n",
    "\n",
    "\n",
    "\n",
    "\n",
    "\n",
    "\n",
    "\n",
    "\n",
    "\n",
    "\n",
    "\n",
    "\n",
    "\n",
    "\n",
    "\n",
    "#count = 0\n",
    "    \n",
    "#while count < x:\n",
    "    \n",
    "        \n",
    " #    mdb.loc[(mdb['#']<8), 'Vol_EMA8'] = 0\n",
    "  #   mdb.loc[(mdb['#']==8), 'Vol_EMA8'] = mdb[\"VOL_MA8\"]\n",
    "   #  mdb.loc[(mdb['#']>8), 'Vol_EMA8'] = (mdb[\"Volume\"]*(2/9))+(mdb[\"Vol_EMA8\"].shift(1)*(1-(2/9)))\n",
    "        \n",
    "    # count = count + 1\n",
    "                            \n",
    "\n",
    "\n",
    "\n",
    "\n",
    "\n",
    "\n",
    "\n",
    "\n",
    "\n",
    "\n",
    "\n",
    "\n",
    "\n",
    "#mdb[\"Vol_EMA8\"] = mdb.groupby(mdb[\"Name\"]).Volume.transform(lambda c: c.ewm(halflife=8).mean())\n"
   ]
  },
  {
   "cell_type": "code",
   "execution_count": 21,
   "id": "1b3cb792",
   "metadata": {},
   "outputs": [],
   "source": [
    "# EMA3 / EMA8 VOLUME END #"
   ]
  },
  {
   "cell_type": "markdown",
   "id": "fb75fd03-5034-44e8-affa-e07c09cc75f3",
   "metadata": {},
   "source": [
    "### Adding VAR to Volume Arg "
   ]
  },
  {
   "cell_type": "code",
   "execution_count": 22,
   "id": "63ff0284",
   "metadata": {},
   "outputs": [],
   "source": [
    "mdb['Vol_Avg_ARG']=0\n",
    "mdb['Vol_EMA3_ARG']=0\n",
    "mdb['Vol_EMA8_ARG']=0"
   ]
  },
  {
   "cell_type": "code",
   "execution_count": 23,
   "id": "85b1770f",
   "metadata": {},
   "outputs": [],
   "source": [
    "#more then Above_Vol_Exe#\n",
    "\n",
    "mdb.loc[(mdb['#']==1), 'Vol_Avg_ARG'] = 0\n",
    "mdb.loc[(mdb['#']!=1)&(mdb['Volume']*(1+Above_VOL_exe)>=mdb['Avg_Vol']),'Vol_Avg_ARG']= 1\n",
    "mdb.loc[(mdb['#']!=1)&(mdb['Volume']*(1+Above_VOL_exe)<mdb['Avg_Vol']),'Vol_Avg_ARG'] = 0\n",
    "\n",
    "if Vol_EMA3_exe==0:\n",
    "    mdb['Vol_EMA3_ARG']=0\n",
    "else:\n",
    "    mdb.loc[(mdb['#']<3), 'Vol_EMA3_ARG'] = 0\n",
    "    mdb.loc[(mdb['#']>=3)&((mdb['Volume']*(1+Above_VOL_exe))>=mdb['Vol_EMA3']), 'Vol_EMA3_ARG'] = 1\n",
    "    mdb.loc[(mdb['#']>=3)&((mdb['Volume']*(1+Above_VOL_exe))<mdb['Vol_EMA3']), 'Vol_EMA3_ARG'] = 0\n",
    "    \n",
    "    \n",
    "    \n",
    "mdb.loc[(mdb['#']<8), 'Vol_EMA8_ARG'] = 0    \n",
    "mdb.loc[(mdb['#']>=8)&((mdb['Volume']*(1+Above_VOL_exe))>=mdb['Vol_EMA8']), 'Vol_EMA8_ARG'] = 1\n",
    "mdb.loc[(mdb['#']>=8)&((mdb['Volume']*(1+Above_VOL_exe))<mdb['Vol_EMA8']), 'Vol_EMA8_ARG'] = 0\n"
   ]
  },
  {
   "cell_type": "code",
   "execution_count": 24,
   "id": "075b543f",
   "metadata": {},
   "outputs": [],
   "source": [
    "# Vol.Arguments# NEED TO ADD VARIABLES "
   ]
  },
  {
   "cell_type": "markdown",
   "id": "a57bd7d4-b533-4a9a-80d9-6b3943f60a99",
   "metadata": {},
   "source": [
    "### Volume Arg Test Files"
   ]
  },
  {
   "cell_type": "code",
   "execution_count": 25,
   "id": "3cbabe49",
   "metadata": {},
   "outputs": [],
   "source": [
    "mdb.to_csv(TSTPath + 'M_Volume_TST.csv', columns=('#', 'Name','Date','Volume','Accu_Vol','Avg_Vol','Vol_EMA3','Vol_EMA8', 'Vol_Avg_ARG','Vol_EMA3_ARG', 'Vol_EMA8_ARG'  ), index=False)\n",
    "\n"
   ]
  },
  {
   "cell_type": "markdown",
   "id": "57cad148",
   "metadata": {},
   "source": [
    "## Moving AVG & EMA (on Close Price) "
   ]
  },
  {
   "cell_type": "markdown",
   "id": "e3953940-05d0-42b2-a44e-707924c4d1ed",
   "metadata": {},
   "source": [
    "### Moving AVG 20 / 50 / 200 / 3 / 5 / 8"
   ]
  },
  {
   "cell_type": "code",
   "execution_count": 26,
   "id": "7ed94dc7",
   "metadata": {},
   "outputs": [],
   "source": [
    "mdb[\"CLS_MA20\"] = mdb.groupby(mdb[\"Name\"]).Close.transform(lambda c: c.rolling(20).mean())\n",
    "mdb[\"CLS_MA20\"] = mdb[\"CLS_MA20\"].fillna(0)"
   ]
  },
  {
   "cell_type": "code",
   "execution_count": 27,
   "id": "ebee58d6",
   "metadata": {},
   "outputs": [],
   "source": [
    "mdb[\"CLS_MA50\"] = mdb.groupby(mdb[\"Name\"]).Close.transform(lambda c: c.rolling(50).mean())\n",
    "mdb[\"CLS_MA50\"] = mdb[\"CLS_MA50\"].fillna(0)"
   ]
  },
  {
   "cell_type": "code",
   "execution_count": 28,
   "id": "d3b54890",
   "metadata": {},
   "outputs": [],
   "source": [
    "mdb[\"CLS_MA200\"] = mdb.groupby(mdb[\"Name\"]).Close.transform(lambda c: c.rolling(200).mean())\n",
    "mdb[\"CLS_MA200\"] = mdb[\"CLS_MA200\"].fillna(0)"
   ]
  },
  {
   "cell_type": "code",
   "execution_count": 29,
   "id": "0ebd71d5",
   "metadata": {},
   "outputs": [],
   "source": [
    "\n",
    "mdb[\"CLS_MA3\"] = mdb.groupby(mdb[\"Name\"]).Close.transform(lambda c: c.rolling(3).mean())\n",
    "mdb[\"CLS_MA3\"] = mdb[\"CLS_MA3\"].fillna(0)\n",
    "\n"
   ]
  },
  {
   "cell_type": "code",
   "execution_count": 30,
   "id": "a9ff6650-8a32-4465-9339-76788368e63d",
   "metadata": {},
   "outputs": [],
   "source": [
    "mdb[\"CLS_MA5\"] = mdb.groupby(mdb[\"Name\"]).Close.transform(lambda c: c.rolling(5).mean())\n",
    "mdb[\"CLS_MA5\"] = mdb[\"CLS_MA5\"].fillna(0)\n"
   ]
  },
  {
   "cell_type": "code",
   "execution_count": 31,
   "id": "a38a7d0c-e6e2-4b12-b68a-e75e22cbde9f",
   "metadata": {},
   "outputs": [],
   "source": [
    "\n",
    "mdb[\"CLS_MA8\"] = mdb.groupby(mdb[\"Name\"]).Close.transform(lambda c: c.rolling(8).mean())\n",
    "mdb[\"CLS_MA8\"] = mdb[\"CLS_MA8\"].fillna(0)\n"
   ]
  },
  {
   "cell_type": "markdown",
   "id": "df4f4c1f-a2a3-4485-ad11-46960ef01349",
   "metadata": {},
   "source": [
    "### E_Moving AVG  3 / 5 / 8 "
   ]
  },
  {
   "cell_type": "code",
   "execution_count": 32,
   "id": "3ffed00c",
   "metadata": {},
   "outputs": [],
   "source": [
    "###Calc EMA_3###\n",
    "\n",
    "mdb.loc[(mdb['#']<3), 'CLS_EMA3'] =  0\n",
    "mdb.loc[(mdb['#']==3), 'CLS_EMA3'] =  mdb[\"CLS_MA3\"]\n",
    "mdb.loc[(mdb['#']>3), 'CLS_EMA3'] = mdb.groupby(mdb[\"Name\"]).Close.transform(lambda c: c.ewm(span=3, adjust=False).mean())\n",
    "    \n",
    "\n",
    "#count = 0\n",
    "    \n",
    "#while count < x:\n",
    "    \n",
    "        \n",
    "    # mdb.loc[(mdb['#']<3), 'CLS_EMA3'] = 0\n",
    "    # mdb.loc[(mdb['#']==3), 'CLS_EMA3'] = mdb[\"CLS_MA3\"]\n",
    "   #  mdb.loc[(mdb['#']>3), 'CLS_EMA3'] = ((mdb[\"Close\"]*0.5)+(mdb[\"CLS_EMA3\"].shift(1)*(0.5)))\n",
    "        \n",
    "  #   count = count + 1\n",
    "                                         \n"
   ]
  },
  {
   "cell_type": "code",
   "execution_count": 33,
   "id": "4171a80f",
   "metadata": {},
   "outputs": [],
   "source": [
    "###Calc EMA_5###\n",
    "\n",
    "mdb.loc[(mdb['#']<5), 'CLS_EMA5'] =  0\n",
    "mdb.loc[(mdb['#']==5), 'CLS_EMA5'] =  mdb[\"CLS_MA5\"]\n",
    "mdb.loc[(mdb['#']>5), 'CLS_EMA5'] = mdb.groupby(mdb[\"Name\"]).Close.transform(lambda c: c.ewm(span=5, adjust=False).mean())\n",
    "    \n",
    "\n",
    "#count = 0\n",
    "    \n",
    "#while count < x:\n",
    "    \n",
    "        \n",
    "   #  mdb.loc[(mdb['#']<5), 'CLS_EMA5'] = 0\n",
    "   #  mdb.loc[(mdb['#']==5), 'CLS_EMA5'] = mdb[\"CLS_MA5\"]\n",
    "   #  mdb.loc[(mdb['#']>5), 'CLS_EMA5'] = ((mdb[\"Close\"]*(2/6))+(mdb[\"CLS_MA5\"].shift(1)*(1-(2/6))))\n",
    "        \n",
    "  #   count = count + 1"
   ]
  },
  {
   "cell_type": "code",
   "execution_count": 34,
   "id": "d78b7d83",
   "metadata": {},
   "outputs": [],
   "source": [
    "###Calc EMA_8###\n",
    "\n",
    "mdb.loc[(mdb['#']<8), 'CLS_EMA8'] =  0\n",
    "mdb.loc[(mdb['#']==8), 'CLS_EMA8'] =  mdb[\"CLS_MA8\"]\n",
    "mdb.loc[(mdb['#']>8), 'CLS_EMA8'] = mdb.groupby(mdb[\"Name\"]).Close.transform(lambda c: c.ewm(span=8, adjust=False).mean())\n",
    "    \n",
    "\n",
    "#count = 0\n",
    "    \n",
    "#while count < x:\n",
    "    \n",
    "        \n",
    "   #  mdb.loc[(mdb['#']<8), 'CLS_EMA8'] = 0\n",
    "    # mdb.loc[(mdb['#']==8), 'CLS_EMA8'] = mdb[\"CLS_MA8\"]\n",
    "    # mdb.loc[(mdb['#']>8), 'CLS_EMA8'] = (mdb[\"Close\"]*(2/9))+(mdb[\"CLS_EMA8\"].shift(1)*(1-(2/9)))\n",
    "       \n",
    "    # count = count + 1"
   ]
  },
  {
   "cell_type": "markdown",
   "id": "fd0d7ffa-6241-436f-9dab-f2925cb06a97",
   "metadata": {},
   "source": [
    "### Moving AVG & EMoving AVG Test Files"
   ]
  },
  {
   "cell_type": "code",
   "execution_count": 35,
   "id": "0efb6b2d",
   "metadata": {},
   "outputs": [],
   "source": [
    "mdb.to_csv(TSTPath +'M_EMA_TST.csv', columns=('#', 'Name','Date','Close','CLS_MA20','CLS_MA50','CLS_MA200','CLS_EMA3', 'CLS_EMA8' ), index=False)\n",
    "\n"
   ]
  },
  {
   "cell_type": "markdown",
   "id": "ee6216ee-c458-4df8-ba59-1e9c34bf3af3",
   "metadata": {},
   "source": [
    "## Moving Average LINED (20/50/200)"
   ]
  },
  {
   "cell_type": "code",
   "execution_count": 36,
   "id": "5ad8bab4",
   "metadata": {},
   "outputs": [],
   "source": [
    "#MA LINED#\n",
    "\n",
    "mdb[\"MA_LINED\"]=0\n",
    "\n",
    "\n",
    "if MA_Lined_exe==0:\n",
    "    mdb[\"MA_LINED\"]=0\n",
    "else:\n",
    "    mdb.loc[(mdb['CLS_MA20']>mdb['CLS_MA50'])&(mdb['CLS_MA50']>mdb['CLS_MA200']), 'MA_LINED'] = 1\n",
    "    mdb.loc[(mdb['CLS_MA20']>mdb['CLS_MA50'])&(mdb['CLS_MA200']==0), 'MA_LINED'] = 1\n",
    "    mdb.loc[(mdb['CLS_MA20']<=mdb['CLS_MA50']), 'MA_LINED'] = 0\n",
    "    mdb.loc[(mdb['CLS_MA50']<=mdb['CLS_MA200']), 'MA_LINED'] = 0\n",
    "\n",
    "\n",
    "\n",
    "\n",
    "\n"
   ]
  },
  {
   "cell_type": "markdown",
   "id": "3ec84c7a-d93b-422f-a9cf-6f6911d6d36b",
   "metadata": {},
   "source": [
    "### Moving Average LINED Test Files\n"
   ]
  },
  {
   "cell_type": "code",
   "execution_count": 37,
   "id": "eb19e960",
   "metadata": {},
   "outputs": [],
   "source": [
    "mdb.to_csv(TSTPath + 'M_MA_LINED_TST.csv', columns=('#', 'Name','Date','Close','CLS_MA20','CLS_MA50','CLS_MA200','MA_LINED' ))\n",
    "\n"
   ]
  },
  {
   "cell_type": "markdown",
   "id": "d1c17d02-8e10-4aa0-8137-5e0bfb2c0875",
   "metadata": {},
   "source": [
    "## Closing Price > MA20 / EMA3 / EMA8 "
   ]
  },
  {
   "cell_type": "markdown",
   "id": "128daabc-75dd-4478-bbce-70c390557e08",
   "metadata": {},
   "source": [
    "### Closing Price > MA20 "
   ]
  },
  {
   "cell_type": "code",
   "execution_count": 38,
   "id": "ee5d1966",
   "metadata": {},
   "outputs": [],
   "source": [
    "#Close Above MA20\n",
    "\n",
    "mdb[\"CLS>MA20\"]=0\n",
    "\n",
    "if Above_MA20_exe==0:\n",
    "    mdb[\"CLS>MA20\"]=0\n",
    "else:\n",
    "    \n",
    "    mdb.loc[(mdb['#']<20), 'CLS>MA20'] = 0\n",
    "    mdb.loc[(mdb['#']>=20)&(mdb['Close']>mdb['CLS_MA20']), 'CLS>MA20'] = 1\n",
    "    mdb.loc[(mdb['#']>=20)&(mdb['Close']<=mdb['CLS_MA20']), 'CLS>MA20'] = 0\n"
   ]
  },
  {
   "cell_type": "markdown",
   "id": "9343a1d3-1d29-478b-8704-80eec5c9f8dc",
   "metadata": {},
   "source": [
    "### Closing Price > EMA8"
   ]
  },
  {
   "cell_type": "code",
   "execution_count": 39,
   "id": "82948a5e",
   "metadata": {},
   "outputs": [],
   "source": [
    "#Close Above EMA8\n",
    "\n",
    "mdb[\"CLS>EMA8\"]=0\n",
    "\n",
    "if EMA8_exe==0:\n",
    "    mdb[\"CLS>EMA8\"]=0\n",
    "else:\n",
    "    \n",
    "    mdb.loc[(mdb['#']<8), 'CLS>EMA8'] = 0\n",
    "    mdb.loc[(mdb['#']>=8)&(mdb['Close']>mdb['CLS_EMA8']), 'CLS>EMA8'] = 1\n",
    "    mdb.loc[(mdb['#']>=8)&(mdb['Close']<=mdb['CLS_EMA8']), 'CLS>EMA8'] = 0\n",
    "\n"
   ]
  },
  {
   "cell_type": "markdown",
   "id": "7bfc5cbb-f13a-4d2d-bdf1-3145548fc6a6",
   "metadata": {},
   "source": [
    "### Closing Price > EMA3"
   ]
  },
  {
   "cell_type": "code",
   "execution_count": 40,
   "id": "ab9ff0a1",
   "metadata": {},
   "outputs": [],
   "source": [
    "\n",
    "#Close Above EMA3\n",
    "\n",
    "\n",
    "\n",
    "\n",
    "\n",
    "mdb[\"CLS>EMA3\"]=0\n",
    "\n",
    "if EMA3_exe==0:\n",
    "    mdb[\"CLS>EMA3\"]=0\n",
    "else:\n",
    "\n",
    "\n",
    "    mdb.loc[(mdb['#']<3), 'CLS>EMA3'] = 0\n",
    "    mdb.loc[(mdb['#']>=3)&(mdb['Close']>mdb['CLS_EMA3']), 'CLS>EMA3'] = 1\n",
    "    mdb.loc[(mdb['#']>=3)&(mdb['Close']<=mdb['CLS_EMA3']), 'CLS>EMA3'] = 0\n",
    "\n",
    "\n",
    "\n",
    "\n",
    "\n"
   ]
  },
  {
   "cell_type": "code",
   "execution_count": 41,
   "id": "157e1009",
   "metadata": {},
   "outputs": [
    {
     "data": {
      "text/plain": [
       "'8'"
      ]
     },
     "execution_count": 41,
     "metadata": {},
     "output_type": "execute_result"
    }
   ],
   "source": [
    "values[16]"
   ]
  },
  {
   "cell_type": "markdown",
   "id": "e8d6aca8-5bbf-45f2-9119-315929f8ab89",
   "metadata": {},
   "source": [
    "### Closing Price > MA20 / EMA3 / EMA8 Test Files\n",
    "\n"
   ]
  },
  {
   "cell_type": "code",
   "execution_count": null,
   "id": "d2f10fce",
   "metadata": {},
   "outputs": [],
   "source": []
  },
  {
   "cell_type": "code",
   "execution_count": 42,
   "id": "2130dd27",
   "metadata": {},
   "outputs": [],
   "source": [
    "mdb.to_csv(TSTPath + 'M_EMA3&EMA8_TST.csv', columns=('#', 'Name','Date','CLS>MA20','Close','CLS_EMA3','CLS_EMA8','CLS>EMA3','CLS>EMA8' ), index=False)\n",
    "\n"
   ]
  },
  {
   "cell_type": "code",
   "execution_count": null,
   "id": "1053e50b",
   "metadata": {},
   "outputs": [],
   "source": []
  },
  {
   "cell_type": "markdown",
   "id": "4ce1d0af",
   "metadata": {},
   "source": [
    "## Touch MA20 "
   ]
  },
  {
   "cell_type": "code",
   "execution_count": 43,
   "id": "d41dfa66",
   "metadata": {},
   "outputs": [],
   "source": [
    "#mdb.insert(0,'id', range(1, 1+len(mdb)))"
   ]
  },
  {
   "cell_type": "code",
   "execution_count": 44,
   "id": "c12d1613",
   "metadata": {},
   "outputs": [],
   "source": [
    "#x=(mdb['id'].iloc[-1]+1)"
   ]
  },
  {
   "cell_type": "code",
   "execution_count": null,
   "id": "4b213bd9",
   "metadata": {},
   "outputs": [],
   "source": []
  },
  {
   "cell_type": "code",
   "execution_count": 45,
   "id": "2ce81677",
   "metadata": {},
   "outputs": [
    {
     "data": {
      "text/plain": [
       "146"
      ]
     },
     "execution_count": 45,
     "metadata": {},
     "output_type": "execute_result"
    }
   ],
   "source": [
    "#x = x / stock_number*5\n",
    "\n",
    "x"
   ]
  },
  {
   "cell_type": "code",
   "execution_count": 46,
   "id": "ac95c7ac",
   "metadata": {},
   "outputs": [],
   "source": [
    "mdb[\"touch\"]=0\n",
    "\n",
    "if MA20_Crossed_exe==0:\n",
    "    mdb[\"touch\"]=0\n",
    "else:\n",
    "    mdb.loc[(mdb['High']>mdb['CLS_MA20'])&(mdb['Low']<mdb['CLS_MA20']), 'touch'] = 1\n",
    "    mdb.loc[(mdb['High']<=mdb['CLS_MA20']), 'touch'] = 0\n",
    "    mdb.loc[(mdb['Low']>=mdb['CLS_MA20']), 'touch'] = 0\n",
    "\n",
    "\n",
    "\n",
    "\n",
    "#ma20touch_cond  = [ (mdb[\"High\"] > mdb[\"CLS_MA20\"]) & (mdb[\"Low\"] < mdb[\"CLS_MA20\"])]\n",
    "\n",
    "#ma20touch_choices     = [1]\n",
    "\n",
    "#mdb[\"touch\"] = np.select(ma20touch_cond, ma20touch_choices, default=0)\n",
    "\n"
   ]
  },
  {
   "cell_type": "code",
   "execution_count": 47,
   "id": "27e5cf03",
   "metadata": {},
   "outputs": [],
   "source": [
    "mdb[\"touch&ema8\"]=0\n",
    "\n",
    "if MA20_Crossed_exe==0:\n",
    "    mdb[\"touch&ema8\"]=0\n",
    "    \n",
    "else:\n",
    "    \n",
    "    count = 0\n",
    "    \n",
    "    while count < x:\n",
    "        \n",
    "        mdb.loc[(mdb['#'] == 1), 'touch&ema8'] = 0\n",
    "        mdb.loc[(mdb['#'] != 1)&(mdb['Close'] <= mdb['CLS_EMA8']) & (mdb['touch'] == 1), 'touch&ema8'] = 1\n",
    "        mdb.loc[(mdb['#'] != 1)&(mdb['Close'] > mdb['CLS_EMA8']) & (mdb['touch'] == 1), 'touch&ema8'] = 0\n",
    "        mdb.loc[(mdb['#'] != 1)&(mdb['Close'] >= mdb['CLS_EMA8']) & (mdb['touch'] == 0), 'touch&ema8'] = 0\n",
    "        mdb.loc[(mdb['#'] != 1)&(mdb['Close'] < mdb['CLS_EMA8']) & (mdb['touch'] == 0), 'touch&ema8'] = mdb['touch&ema8'].shift(1)\n",
    "        \n",
    "        count = count + 1"
   ]
  },
  {
   "cell_type": "code",
   "execution_count": 48,
   "id": "797f6f4a",
   "metadata": {},
   "outputs": [],
   "source": [
    "mdb[\"touch8new\"]=0\n",
    "\n",
    "if MA20_Crossed_exe==0:\n",
    "    mdb[\"touch8new\"]=0\n",
    "    \n",
    "else:\n",
    "\n",
    "\n",
    "    count = 0\n",
    "\n",
    "    while count < x:\n",
    "        \n",
    "        mdb.loc[(mdb['#'] == 1), 'touch8new'] = 0\n",
    "        mdb.loc[(mdb['#'] != 1)&(mdb['touch&ema8'] == 1), 'touch8new'] = 1\n",
    "        mdb.loc[(mdb['#'] != 1)&(mdb['Close'] >= mdb['CLS_EMA8']) & (mdb['touch&ema8'] == 0), 'touch8new'] = 1\n",
    "        mdb.loc[(mdb['#'] != 1)&(mdb['Close'] <= mdb['CLS_EMA8']) & (mdb['touch&ema8'] == 0), 'touch8new'] = 0\n",
    "    \n",
    "    \n",
    "        count = count + 1"
   ]
  },
  {
   "cell_type": "code",
   "execution_count": 49,
   "id": "4835e4e6",
   "metadata": {},
   "outputs": [],
   "source": [
    "mdb[\"MA20TOUCH\"]=0\n",
    "\n",
    "\n",
    "if MA20_Crossed_exe==0:\n",
    "    mdb[\"MA20TOUCH\"]=0\n",
    "    \n",
    "else:\n",
    "\n",
    "    count = 0\n",
    "\n",
    "    while count < x:\n",
    "        \n",
    "        mdb.loc[(mdb['#'] == 1), 'MA20TOUCH'] = 0\n",
    "        mdb.loc[(mdb['#'] != 1)&(mdb['touch8new'] == 1) & (mdb['touch'] == 1), 'MA20TOUCH'] = 1\n",
    "        mdb.loc[(mdb['#'] != 1)&(mdb['touch8new'] < 1) & (mdb['touch'] < 1), 'MA20TOUCH'] = 0\n",
    "        mdb.loc[(mdb['#'] != 1)&(mdb['touch'] == 1), 'MA20TOUCH'] = 1\n",
    "        mdb.loc[(mdb['#'] != 1)&(mdb['touch8new'] == 1) & (mdb['touch'] == 0), 'MA20TOUCH'] = mdb['MA20TOUCH'].shift(1)\n",
    "    \n",
    "        count = count + 1\n",
    "    \n"
   ]
  },
  {
   "cell_type": "markdown",
   "id": "a7052810-28b4-4bc2-9b92-2530f1fda1d3",
   "metadata": {},
   "source": [
    "### Touch MA20 Test File\n",
    "\n"
   ]
  },
  {
   "cell_type": "code",
   "execution_count": 50,
   "id": "c6245a34",
   "metadata": {},
   "outputs": [],
   "source": [
    "mdb.to_csv(TSTPath + 'M_TouchMA20_TST.csv', columns=('#', 'Name','Date','High','Low','Close','CLS_MA20','touch','CLS_EMA8','touch&ema8', 'touch8new','MA20TOUCH'  ), index=False)\n"
   ]
  },
  {
   "cell_type": "code",
   "execution_count": 51,
   "id": "bbe0bc12",
   "metadata": {},
   "outputs": [
    {
     "data": {
      "text/plain": [
       "146"
      ]
     },
     "execution_count": 51,
     "metadata": {},
     "output_type": "execute_result"
    }
   ],
   "source": [
    "x"
   ]
  },
  {
   "cell_type": "markdown",
   "id": "e4d25631",
   "metadata": {},
   "source": [
    "## Sequence Start\n"
   ]
  },
  {
   "cell_type": "code",
   "execution_count": 52,
   "id": "d1568b32",
   "metadata": {},
   "outputs": [],
   "source": [
    "mdb[\"seq_up\"] = \"\"\n",
    "mdb[\"seq_dw\"] = \"\"\n",
    "mdb[\"SEQ_UP/DOWN\"] = \"\"\n",
    "mdb[\"seq_ref_up\"] = \"\"\n",
    "mdb[\"seq_ref_dw\"] = \"\"\n",
    "mdb[\"seq_ref_y/n\"] = \"\"\n",
    "mdb[\"seq_open\"] = 0\n",
    "mdb[\"seq_high\"] = 0\n",
    "mdb[\"seq_low\"] = 0\n",
    "mdb[\"seq_close\"] = 0\n",
    "mdb[\"seq_adj_close\"] = 0\n",
    "\n"
   ]
  },
  {
   "cell_type": "code",
   "execution_count": 53,
   "id": "33d456e4",
   "metadata": {},
   "outputs": [],
   "source": [
    "# \"seq_open\" / \"seq_high\" / \"seq_low\" / \"seq_close\" / \"seq_adj_close\"\n",
    "\n",
    "# \"seq_up\"\n",
    "\n",
    "#\"seq_dw\"\n",
    "\n",
    "# \"SEQ_UP/DOWN\"\n",
    "\n",
    "#\"seq_ref_up\"\n",
    "\n",
    "#\"seq_ref_dw\"   \n",
    "\n",
    "#  \"seq_ref_y/n\""
   ]
  },
  {
   "cell_type": "code",
   "execution_count": 54,
   "id": "c3b76e3b",
   "metadata": {},
   "outputs": [],
   "source": [
    "\n",
    "if Sequince_exe==0:\n",
    "    \n",
    "    mdb[\"seq_up\"] = 0\n",
    "    mdb[\"seq_dw\"] = 0\n",
    "    mdb[\"SEQ_UP/DOWN\"] = 0\n",
    "    mdb[\"seq_ref_up\"] = 0\n",
    "    mdb[\"seq_ref_dw\"] = 0\n",
    "    mdb[\"seq_ref_y/n\"] = 0\n",
    "    mdb[\"seq_open\"] = 0\n",
    "    mdb[\"seq_high\"] = 0\n",
    "    mdb[\"seq_low\"] = 0\n",
    "    mdb[\"seq_close\"] = 0\n",
    "    mdb[\"seq_adj_close\"] = 0\n",
    "    \n",
    "else:\n",
    "\n",
    "    count = 0\n",
    "\n",
    "    while count < x:\n",
    "       \n",
    "        mdb.loc[(mdb['#'] == 1), 'seq_open'] = 0\n",
    "        mdb.loc[(mdb['#'] != 1)&(mdb['seq_ref_y/n'] == 'y')&(mdb['#'] != 1), 'seq_open'] = mdb[\"Open\"]\n",
    "        mdb.loc[(mdb['#'] != 1)&(mdb['seq_ref_y/n'] != 'y')&(mdb['#'] != 1), 'seq_open'] = mdb[\"seq_open\"].shift(1)\n",
    "    \n",
    "    \n",
    "        mdb.loc[(mdb['#'] == 1), 'seq_high'] = 0\n",
    "        mdb.loc[(mdb['#'] != 1)&(mdb['seq_ref_y/n'] == 'y')&(mdb['#'] != 1), 'seq_high'] = mdb[\"High\"]\n",
    "        mdb.loc[(mdb['#'] != 1)&(mdb['seq_ref_y/n'] != 'y')&(mdb['#'] != 1), 'seq_high'] = mdb[\"seq_high\"].shift(1)\n",
    "    \n",
    "        mdb.loc[(mdb['#'] == 1), 'seq_low'] = 0\n",
    "        mdb.loc[(mdb['#'] != 1)&(mdb['seq_ref_y/n'] == 'y')&(mdb['#'] != 1), 'seq_low'] = mdb[\"Low\"]\n",
    "        mdb.loc[(mdb['#'] != 1)&(mdb['seq_ref_y/n'] != 'y')&(mdb['#'] != 1), 'seq_low'] = mdb[\"seq_low\"].shift(1)\n",
    "        \n",
    "        mdb.loc[(mdb['#'] == 1), 'seq_close'] = 0\n",
    "        mdb.loc[(mdb['#'] != 1)&(mdb['seq_ref_y/n'] == 'y')&(mdb['#'] != 1), 'seq_close'] = mdb[\"Close\"]\n",
    "        mdb.loc[(mdb['#'] != 1)&(mdb['seq_ref_y/n'] != 'y')&(mdb['#'] != 1), 'seq_close'] = mdb[\"seq_close\"].shift(1)\n",
    "    \n",
    "        mdb.loc[(mdb['#'] == 1), 'seq_adj_close'] = 0\n",
    "        mdb.loc[(mdb['#'] != 1)&(mdb['seq_ref_y/n'] == 'y')&(mdb['#'] != 1), 'seq_adj_close'] = mdb[\"Adj_Close\"]\n",
    "        mdb.loc[(mdb['#'] != 1)&(mdb['seq_ref_y/n'] != 'y')&(mdb['#'] != 1), 'seq_adj_close'] = mdb[\"seq_adj_close\"].shift(1)\n",
    "    \n",
    "    \n",
    "        mdb.loc[(mdb['#'] == 1), 'seq_up'] = 0\n",
    "        mdb.loc[(mdb['#'] != 1)&(mdb['seq_up'].shift(1) == 'up')&(mdb['Close']>mdb['seq_low'].shift(1)) , 'seq_up'] = 'up'\n",
    "        mdb.loc[(mdb['#'] != 1)&(mdb['seq_up'].shift(1) == 'up')&(mdb['Close']<=mdb['seq_low'].shift(1)) , 'seq_up'] = '0'\n",
    "        mdb.loc[(mdb['#'] != 1)&(mdb['seq_up'].shift(1) !='up')&(mdb['Close']>mdb['seq_high'].shift(1)) , 'seq_up'] = 'up'\n",
    "        mdb.loc[(mdb['#'] != 1)&(mdb['seq_up'].shift(1) !='up')&(mdb['Close']<=mdb['seq_high'].shift(1)) , 'seq_up'] = '0'\n",
    "    \n",
    "        mdb.loc[(mdb['#'] == 1), 'seq_dw'] = 0\n",
    "        mdb.loc[(mdb['#'] != 1)&(mdb['seq_up'] =='up'), 'seq_dw'] = '0'\n",
    "        mdb.loc[(mdb['#'] != 1)&(mdb['seq_up'] !='up'), 'seq_dw'] = 'dw'\n",
    "    \n",
    "        mdb.loc[(mdb['#'] == 1), 'SEQ_UP/DOWN'] = 0\n",
    "        mdb.loc[(mdb['#'] != 1)&(mdb['seq_up'] =='up'), 'SEQ_UP/DOWN'] = 1\n",
    "        mdb.loc[(mdb['#'] != 1)&(mdb['seq_dw'] =='dw'), 'SEQ_UP/DOWN'] = 0\n",
    "    \n",
    "        mdb.loc[(mdb['#'] == 1), 'seq_ref_up'] = 0\n",
    "        mdb.loc[(mdb['#'] != 1)&(mdb['seq_up'] == 'up')&(mdb['High']>mdb['seq_high'].shift(1)) , 'seq_ref_up'] = 'ref_up'\n",
    "        mdb.loc[(mdb['#'] != 1)&(mdb['seq_up'] == 'up')&(mdb['High']<=mdb['seq_high'].shift(1)) , 'seq_ref_up'] = '0'\n",
    "        mdb.loc[(mdb['#'] != 1)&(mdb['seq_up'] != 'up'), 'seq_ref_up'] = '0'\n",
    "    \n",
    "        mdb.loc[(mdb['#'] == 1), 'seq_ref_dw'] = 0\n",
    "        mdb.loc[(mdb['#'] != 1)&(mdb['seq_dw'] == 'dw')&(mdb['Low']<mdb['seq_low'].shift(1)) , 'seq_ref_dw'] = 'ref_dw'\n",
    "        mdb.loc[(mdb['#'] != 1)&(mdb['seq_dw'] == 'dw')&(mdb['Low']>=mdb['seq_low'].shift(1)) , 'seq_ref_dw'] = 0\n",
    "        mdb.loc[(mdb['#'] != 1)&(mdb['seq_dw'] != 'dw'), 'seq_ref_dw'] = '0'\n",
    "    \n",
    "        mdb.loc[(mdb['#'] == 1), 'seq_ref_y/n'] = 0\n",
    "        mdb.loc[(mdb['#'] != 1)&(mdb['seq_ref_up'] =='ref_up'), 'seq_ref_y/n'] = \"y\"\n",
    "        mdb.loc[(mdb['#'] != 1)&(mdb['seq_ref_up'] !='ref_up')&(mdb['seq_ref_dw'] =='ref_dw'), 'seq_ref_y/n'] = \"y\"\n",
    "        mdb.loc[(mdb['#'] != 1)&(mdb['seq_ref_up'] !='ref_up')&(mdb['seq_ref_dw'] !='ref_dw'), 'seq_ref_y/n'] = \"n\"\n",
    "    \n",
    "\n",
    "        \n",
    "\n",
    "    \n",
    "        count = count + 1\n",
    "    \n",
    "    \n",
    "    \n"
   ]
  },
  {
   "cell_type": "markdown",
   "id": "adc7c26d-0e6f-4ead-b24c-8af4a9d80559",
   "metadata": {},
   "source": [
    "### Sequence Test File\n"
   ]
  },
  {
   "cell_type": "code",
   "execution_count": 55,
   "id": "6b8e25ad",
   "metadata": {},
   "outputs": [],
   "source": [
    "mdb.to_csv(TSTPath + 'M_SEQ_TST.csv', columns=('#', 'Name','Date','Open','High','Low','Close','Adj_Close','seq_ref_up','seq_ref_dw','seq_ref_y/n','seq_up','seq_dw','SEQ_UP/DOWN','seq_open','seq_high','seq_low','seq_close','seq_adj_close'  ),index=False)\n",
    "\n"
   ]
  },
  {
   "cell_type": "markdown",
   "id": "71af484b",
   "metadata": {},
   "source": [
    "## Trend Start"
   ]
  },
  {
   "cell_type": "code",
   "execution_count": 56,
   "id": "30a29819",
   "metadata": {},
   "outputs": [],
   "source": [
    "#Trend Up Point#"
   ]
  },
  {
   "cell_type": "code",
   "execution_count": 57,
   "id": "c8ff3b66",
   "metadata": {},
   "outputs": [],
   "source": [
    "mdb[\"trendPTup\"] = 0"
   ]
  },
  {
   "cell_type": "code",
   "execution_count": 58,
   "id": "67d372de",
   "metadata": {},
   "outputs": [],
   "source": [
    "if Trend_exe==0:\n",
    "    \n",
    "    mdb[\"trendPTup\"] = 0\n",
    "    \n",
    "else:\n",
    "    \n",
    "    count = 0\n",
    "\n",
    "    while count <x:\n",
    "       \n",
    "        mdb.loc[(mdb['#'] == 1), 'trendPTup'] == 0\n",
    "        mdb.loc[(mdb['SEQ_UP/DOWN'] == 1)&(mdb['Close'] > mdb['trendPTup'].shift(1)), 'trendPTup'] = mdb[\"Close\"]\n",
    "        mdb.loc[(mdb['SEQ_UP/DOWN'] == 1)&(mdb['Close'] <= mdb['trendPTup'].shift(1)), 'trendPTup'] = mdb['trendPTup'].shift(1)\n",
    "        mdb.loc[(mdb['SEQ_UP/DOWN'] != 1), 'trendPTup'] = 0\n",
    "    \n",
    "        count = count + 1"
   ]
  },
  {
   "cell_type": "code",
   "execution_count": 59,
   "id": "ef5fe89b",
   "metadata": {},
   "outputs": [],
   "source": [
    "#Trend Up Max Point#"
   ]
  },
  {
   "cell_type": "code",
   "execution_count": 60,
   "id": "c6ec8f7b",
   "metadata": {},
   "outputs": [],
   "source": [
    "mdb[\"trendMaxPTup\"] = 0"
   ]
  },
  {
   "cell_type": "code",
   "execution_count": 61,
   "id": "4bb8d53a",
   "metadata": {},
   "outputs": [],
   "source": [
    "if Trend_exe==0:\n",
    "    \n",
    "    mdb[\"trendMaxPTup\"] = 0\n",
    "    \n",
    "else:\n",
    "\n",
    "    count = 0\n",
    "\n",
    "    while count < x:\n",
    "       \n",
    "        mdb.loc[(mdb['#'] == 1), 'trendMaxPTup'] == 0\n",
    "        mdb.loc[(mdb['trendPTup']== 0)&(mdb['#'] != 1),'trendMaxPTup'] = mdb[\"trendPTup\"].shift(1)\n",
    "        mdb.loc[(mdb['trendPTup']!= 0)&(mdb['#'] != 1),'trendMaxPTup'] = 0\n",
    "    \n",
    "        count = count + 1"
   ]
  },
  {
   "cell_type": "code",
   "execution_count": null,
   "id": "9dd53c01",
   "metadata": {},
   "outputs": [],
   "source": []
  },
  {
   "cell_type": "code",
   "execution_count": 62,
   "id": "51678dbe",
   "metadata": {},
   "outputs": [],
   "source": [
    "#Trend Up Ref Point#"
   ]
  },
  {
   "cell_type": "code",
   "execution_count": 63,
   "id": "91cd3f35",
   "metadata": {},
   "outputs": [],
   "source": [
    "mdb[\"trendupref\"] = 0"
   ]
  },
  {
   "cell_type": "code",
   "execution_count": 64,
   "id": "0a4b7657",
   "metadata": {},
   "outputs": [],
   "source": [
    "if Trend_exe==0:\n",
    "    \n",
    "    mdb[\"trendupref\"] = 0\n",
    "    \n",
    "else:\n",
    "\n",
    "    count = 0\n",
    "\n",
    "    while count < x:\n",
    "       \n",
    "        mdb.loc[(mdb['#'] == 1), 'trendupref'] == 0\n",
    "        mdb.loc[(mdb['trendMaxPTup']== 0)&(mdb['#'] != 1),'trendupref'] = mdb[\"trendupref\"].shift(1)\n",
    "        mdb.loc[(mdb['trendMaxPTup']!= 0)&(mdb['#'] != 1),'trendupref'] = mdb['trendMaxPTup']\n",
    "    \n",
    "        count = count + 1"
   ]
  },
  {
   "cell_type": "code",
   "execution_count": null,
   "id": "0b8571b1",
   "metadata": {},
   "outputs": [],
   "source": []
  },
  {
   "cell_type": "code",
   "execution_count": 65,
   "id": "43f522ad",
   "metadata": {},
   "outputs": [],
   "source": [
    "#2 Up trends Mark # ## TO ADD CHANGEABLE GAP"
   ]
  },
  {
   "cell_type": "code",
   "execution_count": 66,
   "id": "e2b32598",
   "metadata": {},
   "outputs": [],
   "source": [
    "mdb[\"2trdupmark\"] = 0"
   ]
  },
  {
   "cell_type": "code",
   "execution_count": 67,
   "id": "f307e2cf",
   "metadata": {},
   "outputs": [],
   "source": [
    "#ABOVE TREND_GAP_EXE#\n",
    "\n",
    "if Trend_exe==0:\n",
    "    \n",
    "    mdb[\"2trdupmark\"] = 0\n",
    "    \n",
    "else:\n",
    "\n",
    "    count = 0\n",
    "\n",
    "    while count < x:\n",
    "       \n",
    "        mdb.loc[(mdb['#'] == 1), '2trdupmark'] = 0\n",
    "        mdb.loc[(mdb['trendMaxPTup'].shift(-1)> (mdb[\"trendupref\"])*(1+Trend_GAP_exe))&(mdb['#'] != 1),'2trdupmark'] = 1\n",
    "        mdb.loc[(mdb['trendMaxPTup'].shift(-1)<=mdb[\"trendupref\"])&(mdb['#'] != 1),'2trdupmark'] = 0\n",
    "\n",
    "    \n",
    "        count = count + 1"
   ]
  },
  {
   "cell_type": "code",
   "execution_count": null,
   "id": "a2f304fc",
   "metadata": {},
   "outputs": [],
   "source": []
  },
  {
   "cell_type": "code",
   "execution_count": 68,
   "id": "4426aa87",
   "metadata": {},
   "outputs": [],
   "source": [
    "#Trend DW Point#"
   ]
  },
  {
   "cell_type": "code",
   "execution_count": 69,
   "id": "8485e81c",
   "metadata": {},
   "outputs": [],
   "source": [
    "mdb[\"trendPTdw\"] = 0"
   ]
  },
  {
   "cell_type": "code",
   "execution_count": 70,
   "id": "3225494f",
   "metadata": {},
   "outputs": [],
   "source": [
    "if Trend_exe==0:\n",
    "    \n",
    "    mdb[\"trendPTdw\"] = 0\n",
    "    \n",
    "else:\n",
    "\n",
    "    count = 0\n",
    "\n",
    "    while count < x:\n",
    "       \n",
    "        mdb.loc[(mdb['#'] == 1), 'trendPTdw'] == 0\n",
    "        mdb.loc[(mdb['#'] != 1)&(mdb['SEQ_UP/DOWN'] == 0)&(mdb['SEQ_UP/DOWN'].shift(1)==1), 'trendPTdw'] = mdb[\"Close\"]\n",
    "        mdb.loc[(mdb['#'] != 1)&(mdb['SEQ_UP/DOWN'] == 0)&(mdb['SEQ_UP/DOWN'].shift(1)!=1)&(mdb[\"Close\"]<mdb[\"trendPTdw\"].shift(1)), 'trendPTdw'] = mdb[\"Close\"]\n",
    "        mdb.loc[(mdb['#'] != 1)&(mdb['SEQ_UP/DOWN'] == 0)&(mdb['SEQ_UP/DOWN'].shift(1)!=1)&(mdb[\"Close\"]>=mdb[\"trendPTdw\"].shift(1)), 'trendPTdw'] = mdb[\"trendPTdw\"].shift(1)\n",
    "        mdb.loc[(mdb['#'] != 1)&(mdb['SEQ_UP/DOWN'] != 0), 'trendPTdw'] = 0\n",
    "    \n",
    "        count = count + 1"
   ]
  },
  {
   "cell_type": "code",
   "execution_count": null,
   "id": "2f9a5433",
   "metadata": {},
   "outputs": [],
   "source": []
  },
  {
   "cell_type": "code",
   "execution_count": 71,
   "id": "10c3739f",
   "metadata": {},
   "outputs": [],
   "source": [
    "#Trend DW Min Point#"
   ]
  },
  {
   "cell_type": "code",
   "execution_count": 72,
   "id": "00e023ec",
   "metadata": {},
   "outputs": [],
   "source": [
    "mdb[\"trendMinPTdw\"] = 0"
   ]
  },
  {
   "cell_type": "code",
   "execution_count": 73,
   "id": "ec911f96",
   "metadata": {},
   "outputs": [],
   "source": [
    "if Trend_exe==0:\n",
    "    \n",
    "    mdb[\"trendMinPTdw\"] = 0\n",
    "    \n",
    "else:\n",
    "\n",
    "    count = 0\n",
    "\n",
    "    while count < x:\n",
    "       \n",
    "        mdb.loc[(mdb['#'] == 1), 'trendMinPTdw'] = 0\n",
    "        mdb.loc[(mdb['trendPTdw']== 0)&(mdb['#'] != 1),'trendMinPTdw'] = mdb[\"trendPTdw\"].shift(1)\n",
    "        mdb.loc[(mdb['trendPTdw']!= 0)&(mdb['#'] != 1),'trendMinPTdw'] = 0\n",
    "    \n",
    "        count = count + 1"
   ]
  },
  {
   "cell_type": "code",
   "execution_count": 74,
   "id": "85550978",
   "metadata": {},
   "outputs": [],
   "source": [
    "#Trend Dw Ref Point#"
   ]
  },
  {
   "cell_type": "code",
   "execution_count": 75,
   "id": "97f567ca",
   "metadata": {},
   "outputs": [],
   "source": [
    "mdb[\"trendDWref\"] = 0"
   ]
  },
  {
   "cell_type": "code",
   "execution_count": 76,
   "id": "5adff47c",
   "metadata": {},
   "outputs": [],
   "source": [
    "if Trend_exe==0:\n",
    "    \n",
    "    mdb[\"trendDWref\"] = 0\n",
    "    \n",
    "else:\n",
    "\n",
    "    count = 0\n",
    "\n",
    "    while count <x:\n",
    "       \n",
    "        mdb.loc[(mdb['#'] == 1), 'trendDWref'] = 0\n",
    "        mdb.loc[(mdb['trendMinPTdw']== 0)&(mdb['#'] != 1),'trendDWref'] = mdb[\"trendDWref\"].shift(1)\n",
    "        mdb.loc[(mdb['trendMinPTdw']!= 0)&(mdb['#'] != 1),'trendDWref'] = mdb['trendMinPTdw']\n",
    "    \n",
    "        count = count + 1"
   ]
  },
  {
   "cell_type": "code",
   "execution_count": null,
   "id": "3de84ade",
   "metadata": {},
   "outputs": [],
   "source": []
  },
  {
   "cell_type": "code",
   "execution_count": 77,
   "id": "cde1762c",
   "metadata": {},
   "outputs": [],
   "source": [
    "#2 Dw trends Mark # ## TO ADD CHANGEABLE GAP"
   ]
  },
  {
   "cell_type": "code",
   "execution_count": 78,
   "id": "fff058fb",
   "metadata": {},
   "outputs": [],
   "source": [
    "mdb[\"2trdDWmark\"] = 0"
   ]
  },
  {
   "cell_type": "code",
   "execution_count": 79,
   "id": "7e17a128",
   "metadata": {},
   "outputs": [],
   "source": [
    "#ABOVE TREND_GAP_EXE#\n",
    "\n",
    "if Trend_exe==0:\n",
    "    \n",
    "    mdb[\"2trdDWmark\"] = 0\n",
    "    \n",
    "else:\n",
    "\n",
    "    count = 0\n",
    "\n",
    "    while count < x:\n",
    "       \n",
    "        mdb.loc[(mdb['#'] == 1), '2trdDWmark'] = 0\n",
    "        mdb.loc[(mdb['#'] != 1)&(mdb['trendMinPTdw'].shift(-1)>(mdb[\"trendDWref\"]*(1+Trend_GAP_exe))),'2trdDWmark'] = 1\n",
    "        mdb.loc[(mdb['#'] != 1)&(mdb['trendMinPTdw'].shift(-1)<=mdb[\"trendDWref\"]),'2trdDWmark'] = 0\n",
    "\n",
    "    \n",
    "        count = count + 1"
   ]
  },
  {
   "cell_type": "code",
   "execution_count": 80,
   "id": "67c2787a",
   "metadata": {},
   "outputs": [],
   "source": [
    "#TREND Calculation"
   ]
  },
  {
   "cell_type": "code",
   "execution_count": 81,
   "id": "bccbefbd",
   "metadata": {},
   "outputs": [],
   "source": [
    "mdb[\"TrendCalc\"] = 0"
   ]
  },
  {
   "cell_type": "code",
   "execution_count": 82,
   "id": "ad7137ef",
   "metadata": {},
   "outputs": [],
   "source": [
    "if Trend_exe==0:\n",
    "    \n",
    "    mdb[\"TrendCalc\"] = 0\n",
    "    \n",
    "else:\n",
    "\n",
    "    count = 0\n",
    "\n",
    "    while count < x:\n",
    "       \n",
    "        mdb.loc[(mdb['#'] == 1), 'TrendCalc'] = 0\n",
    "        mdb.loc[(mdb['#'] != 1)&(mdb['SEQ_UP/DOWN']==0)&(mdb[\"TrendCalc\"].shift(1)==1),'TrendCalc'] = 1\n",
    "        mdb.loc[(mdb['#'] != 1)&(mdb['SEQ_UP/DOWN']==0)&(mdb[\"TrendCalc\"].shift(1)!=1)&(mdb[\"2trdupmark\"].shift(1)==1),'TrendCalc'] = 1\n",
    "        mdb.loc[(mdb['#'] != 1)&(mdb['SEQ_UP/DOWN']==0)&(mdb[\"TrendCalc\"].shift(1)!=1)&(mdb[\"2trdupmark\"].shift(1)!=1),'TrendCalc'] = 0\n",
    "        mdb.loc[(mdb['#'] != 1)&(mdb['SEQ_UP/DOWN']!=0),'TrendCalc'] = 0\n",
    "\n",
    "\n",
    "\n",
    "\n",
    "    \n",
    "        count = count + 1"
   ]
  },
  {
   "cell_type": "code",
   "execution_count": 83,
   "id": "bef67b27",
   "metadata": {},
   "outputs": [],
   "source": [
    "#UP TREND - RESULT"
   ]
  },
  {
   "cell_type": "code",
   "execution_count": 84,
   "id": "50e96247",
   "metadata": {},
   "outputs": [],
   "source": [
    "mdb[\"UP_DW_TREND\"] = 0"
   ]
  },
  {
   "cell_type": "code",
   "execution_count": 85,
   "id": "62ec7c99",
   "metadata": {},
   "outputs": [],
   "source": [
    "if Trend_exe==0:\n",
    "    \n",
    "    mdb[\"UP_DW_TREND\"] = 0\n",
    "    \n",
    "else:\n",
    "\n",
    "    count = 0\n",
    "\n",
    "    while count < x:\n",
    "       \n",
    "        mdb.loc[(mdb['#'] == 1), 'UP_DW_TREND'] = 0\n",
    "    \n",
    "        mdb.loc[(mdb['#'] != 1)&(mdb['TrendCalc'].shift(1) + mdb[\"2trdDWmark\"].shift(1) == 2),'UP_DW_TREND'] = 1\n",
    "    \n",
    "        mdb.loc[(mdb['#'] != 1)&(mdb['TrendCalc'].shift(1) + mdb[\"2trdDWmark\"].shift(1) != 2) & (mdb[\"UP_DW_TREND\"].shift(1)==1)& (mdb['MA_LINED']==1) ,'UP_DW_TREND'] = 1\n",
    "    \n",
    "    #mdb.loc[(mdb['idb'] != 1)&(mdb['TrendCalc'].shift(1) + mdb[\"2trdDWmark\"].shift(1) != 2) & mdb[\"UP_DW_TREND\"].shift(1)!=1 ,'UP_DW_TREND'] = 0\n",
    "\n",
    "\n",
    "        mdb.loc[(mdb['#'] != 1)&(mdb['TrendCalc'].shift(1) + mdb[\"2trdDWmark\"].shift(1) != 2) & (mdb[\"UP_DW_TREND\"].shift(1)==1) & (mdb['MA_LINED']!=1) ,'UP_DW_TREND'] = 0\n",
    "\n",
    "\n",
    "    \n",
    "        count = count + 1"
   ]
  },
  {
   "cell_type": "markdown",
   "id": "e8a1688b-1c21-4cc6-a6f7-ff85094799ce",
   "metadata": {},
   "source": [
    "\n",
    "## Trend test file\n",
    "\n"
   ]
  },
  {
   "cell_type": "code",
   "execution_count": 86,
   "id": "4c22aa74",
   "metadata": {},
   "outputs": [],
   "source": [
    "mdb.to_csv(TSTPath + 'M_TREND_TST.csv', columns=('#', 'Name','Date','Close','MA_LINED','SEQ_UP/DOWN','trendPTup','trendMaxPTup','trendupref','2trdupmark','trendPTdw','trendMinPTdw','trendDWref','2trdDWmark','TrendCalc','UP_DW_TREND'), index=False)\n",
    "\n"
   ]
  },
  {
   "cell_type": "markdown",
   "id": "4b0942b2",
   "metadata": {},
   "source": [
    "# BUY ARGUMENTS"
   ]
  },
  {
   "cell_type": "code",
   "execution_count": 87,
   "id": "5035d3e6",
   "metadata": {},
   "outputs": [],
   "source": [
    "#Creating Buy/Sell Path Testing Folders#\n",
    "Buy_Sell_Path = 'c:/Enigma/Monthly/Buy_Sell/'\n"
   ]
  },
  {
   "cell_type": "code",
   "execution_count": 88,
   "id": "1a3a2a6d",
   "metadata": {},
   "outputs": [],
   "source": [
    "mdb[\"Buy_Combined\"] = 0"
   ]
  },
  {
   "cell_type": "code",
   "execution_count": 89,
   "id": "4844c269",
   "metadata": {},
   "outputs": [],
   "source": [
    "mdb[\"BUY_Decision\"] = 0"
   ]
  },
  {
   "cell_type": "code",
   "execution_count": 90,
   "id": "eb2f50f4",
   "metadata": {},
   "outputs": [],
   "source": [
    "mdb[\"Temp_BUY\"] = 0"
   ]
  },
  {
   "cell_type": "code",
   "execution_count": 91,
   "id": "413681a5",
   "metadata": {},
   "outputs": [],
   "source": [
    "mdb[\"Buy_Combined\"] = mdb['Candle'] + mdb['Vol_EMA3_ARG'] + mdb['MA_LINED']+mdb['CLS>MA20']+ mdb['CLS>EMA8']+ mdb['CLS>EMA3']+ mdb['MA20TOUCH'] + mdb['SEQ_UP/DOWN'] + mdb['UP_DW_TREND']"
   ]
  },
  {
   "cell_type": "code",
   "execution_count": 92,
   "id": "d9e15e32",
   "metadata": {},
   "outputs": [],
   "source": [
    "mdb[\"BUY_Decision\"] = Vol_EMA3_exe + Candle_exe + MA_Lined_exe  + Above_MA20_exe + MA20_Crossed_exe + EMA8_exe+ EMA3_exe + Sequince_exe + Trend_exe"
   ]
  },
  {
   "cell_type": "code",
   "execution_count": 93,
   "id": "97e2a8d4",
   "metadata": {},
   "outputs": [],
   "source": [
    "mdb.loc[(mdb['Buy_Combined'] ==mdb[\"BUY_Decision\"]), 'Temp_BUY'] = 1"
   ]
  },
  {
   "cell_type": "code",
   "execution_count": 94,
   "id": "79f4db14",
   "metadata": {},
   "outputs": [],
   "source": [
    "### ReCalc EMA8 & EMA3 ###"
   ]
  },
  {
   "cell_type": "code",
   "execution_count": 95,
   "id": "8a7e9eae",
   "metadata": {},
   "outputs": [],
   "source": [
    "mdb.loc[(mdb['#']<8), 'CLS>EMA8'] = 0\n",
    "mdb.loc[(mdb['#']>=8)&(mdb['Close']>mdb['CLS_EMA8']), 'CLS>EMA8'] = 1\n",
    "mdb.loc[(mdb['#']>=8)&(mdb['Close']<=mdb['CLS_EMA8']), 'CLS>EMA8'] = 0\n",
    "\n",
    "\n",
    "mdb.loc[(mdb['#']<3), 'CLS>EMA3'] = 0\n",
    "mdb.loc[(mdb['#']>=3)&(mdb['Close']>mdb['CLS_EMA3']), 'CLS>EMA3'] = 1\n",
    "mdb.loc[(mdb['#']>=3)&(mdb['Close']<=mdb['CLS_EMA3']), 'CLS>EMA3'] = 0\n"
   ]
  },
  {
   "cell_type": "markdown",
   "id": "8d598598",
   "metadata": {},
   "source": [
    "# SELL ARGUMENTS"
   ]
  },
  {
   "cell_type": "markdown",
   "id": "c51c38ac-46a1-46f2-adcf-2a77d9646823",
   "metadata": {},
   "source": [
    "## Joker EMA SELL CREATION\n"
   ]
  },
  {
   "cell_type": "code",
   "execution_count": 96,
   "id": "9da33af6",
   "metadata": {},
   "outputs": [],
   "source": [
    "###JOKER SELL EMA###\n",
    "J=int(values[16])\n",
    "\n",
    "\n",
    "mdb.loc[(mdb['#']>=J), 'CLS_EMAJ'] = mdb.groupby(mdb[\"Name\"]).Close.transform(lambda c: c.ewm(span=J, adjust=False).mean())\n",
    "\n",
    "    \n",
    "\n",
    "mdb.loc[(mdb['#']<J), 'CLS>EMAJ'] = 0\n",
    "mdb.loc[(mdb['#']>=J)&(mdb['Close']>mdb['CLS_EMAJ']), 'CLS>EMAJ'] = 1\n",
    "mdb.loc[(mdb['#']>=J)&(mdb['Close']<=mdb['CLS_EMAJ']), 'CLS>EMAJ'] = 0\n"
   ]
  },
  {
   "cell_type": "code",
   "execution_count": 97,
   "id": "5bc3e45d",
   "metadata": {},
   "outputs": [],
   "source": [
    "mdb[\"SELL_EMA8\"] = 0\n",
    "\n",
    "mdb[\"SELL_EMA3\"] = 0\n",
    "\n",
    "mdb[\"Buy_Sell_EMA8\"] = 0\n",
    "\n",
    "mdb[\"BUY_PRICE_EMA8_SELL\"] = 0\n",
    "\n",
    "mdb[\"BUY_PRICE_EMA8_LINE\"] = 0\n",
    "\n",
    "mdb[\"PRICE_EMA8_LINE_Profit\"] = 0\n",
    "\n",
    "mdb[\"PRICE_EMA3_KICKS\"] = 0\n",
    "\n",
    "mdb[\"TEMP_SELL_EMA3\"] = 0\n",
    "\n",
    "mdb[\"TEMP_SELL_LINE_EMA3\"] = 0\n",
    "\n",
    "mdb[\"BUY_SELL_EMA3\"] = 0\n",
    "\n",
    "mdb[\"Symbol_Pos\"] = 0\n",
    "\n",
    "mdb['Sell_VOL_EMA3']=0\n",
    "\n",
    "mdb['temp1_VOL_EMA3']=0\n",
    "\n",
    "mdb['temp2_VOL_EMA3']=0\n"
   ]
  },
  {
   "cell_type": "markdown",
   "id": "467976eb-7faf-4574-a64e-75e6083c38ee",
   "metadata": {},
   "source": [
    "## SELL Below Joker EMA"
   ]
  },
  {
   "cell_type": "code",
   "execution_count": 98,
   "id": "d2337505",
   "metadata": {},
   "outputs": [],
   "source": [
    "######## SELL WHEN BELOW EMA8  ##########\n",
    "\n",
    "if Sell_EMA8_exe==1:\n",
    "    if Sell_EMA3_exe==0:\n",
    "        if VOL_EMA3_exe==0:\n",
    "        \n",
    "            count = 0\n",
    "\n",
    "            while count < x:\n",
    "\n",
    "                #Sell_EMA8#\n",
    "\n",
    "                mdb.loc[(mdb['#'] == 1), 'SELL_EMA8'] = 0\n",
    "                mdb.loc[(mdb['#'] != 1)&(mdb['CLS>EMAJ']==1),'SELL_EMA8'] = 0\n",
    "                mdb.loc[(mdb['#'] != 1)&(mdb['CLS>EMAJ']==0),'SELL_EMA8'] = 1\n",
    "    \n",
    "                 #Sell Below EMA8\n",
    "    \n",
    "                mdb.loc[(mdb['#'] == 1), 'Buy_Sell_EMA8'] = 0\n",
    "                mdb.loc[(mdb['#'] != 1)&(mdb[\"Temp_BUY\"] == 1), 'Buy_Sell_EMA8'] = 1 \n",
    "                mdb.loc[(mdb['#'] != 1)&(mdb[\"Temp_BUY\"] != 1)&(mdb[\"SELL_EMA8\"] == 1), 'Buy_Sell_EMA8'] = 0 \n",
    "                mdb.loc[(mdb['#'] != 1)&(mdb[\"Temp_BUY\"] != 1)&(mdb[\"SELL_EMA8\"] != 1), 'Buy_Sell_EMA8'] = mdb[\"Buy_Sell_EMA8\"].shift(1)\n",
    "\n",
    "                 ### BUY / SELL / DECITION ###\n",
    "    \n",
    "                mdb.loc[(mdb['#'] == 1), 'Symbol_Pos'] = 0\n",
    "                mdb.loc[(mdb['#'] != 1)&(mdb[\"Buy_Sell_EMA8\"]== 1)&(mdb[\"Buy_Sell_EMA8\"].shift(1)== 0), 'Symbol_Pos'] = 'BUY'\n",
    "                mdb.loc[(mdb['#'] != 1)&(mdb[\"Buy_Sell_EMA8\"]== 1)&(mdb[\"Buy_Sell_EMA8\"].shift(1)!= 0), 'Symbol_Pos'] = 'HOLD'\n",
    "                mdb.loc[(mdb['#'] != 1)&(mdb[\"Buy_Sell_EMA8\"]!= 1)&(mdb[\"Buy_Sell_EMA8\"].shift(1)!= 1), 'Symbol_Pos'] = 'OUT'\n",
    "                mdb.loc[(mdb['#'] != 1)&(mdb[\"Buy_Sell_EMA8\"]!= 1)&(mdb[\"Buy_Sell_EMA8\"].shift(1)== 1), 'Symbol_Pos'] = 'SELL'\n",
    "\n",
    "                count = count + 1\n",
    "    \n",
    "    "
   ]
  },
  {
   "cell_type": "markdown",
   "id": "7da64293-3e66-440a-92eb-9fcb3ff61c4f",
   "metadata": {},
   "source": [
    "## SELL Below Joker EMA + EMA3 "
   ]
  },
  {
   "cell_type": "code",
   "execution_count": 99,
   "id": "2d43cc6c",
   "metadata": {},
   "outputs": [],
   "source": [
    "\n",
    "######## SELL WHEN BELOW EMA8 or if profit above X% SELL BELOW EMA3 ##########\n",
    "\n",
    "\n",
    "\n",
    "if Sell_EMA8_exe==1:\n",
    "    if Sell_EMA3_exe==1:\n",
    "    \n",
    "            \n",
    "\n",
    "            count = 0\n",
    "\n",
    "            while count < x:\n",
    "\n",
    "                #Sell_EMA8#\n",
    "\n",
    "                mdb.loc[(mdb['#'] == 1), 'SELL_EMA8'] = 0\n",
    "                mdb.loc[(mdb['#'] != 1)&(mdb['CLS>EMAJ']==1),'SELL_EMA8'] = 0\n",
    "                mdb.loc[(mdb['#'] != 1)&(mdb['CLS>EMAJ']==0),'SELL_EMA8'] = 1\n",
    "    \n",
    "                #Sell_EMA3#\n",
    "\n",
    "                mdb.loc[(mdb['#'] == 1), 'SELL_EMA3'] = 0\n",
    "                mdb.loc[(mdb['#'] != 1)&(mdb['CLS>EMA3']==1),'SELL_EMA3'] = 0\n",
    "                mdb.loc[(mdb['#'] != 1)&(mdb['CLS>EMA3']==0),'SELL_EMA3'] = 1\n",
    "\n",
    "                #Sell Below EMA8\n",
    "    \n",
    "                mdb.loc[(mdb['#'] == 1), 'Buy_Sell_EMA8'] = 0\n",
    "                mdb.loc[(mdb['#'] != 1)&(mdb[\"Temp_BUY\"] == 1), 'Buy_Sell_EMA8'] = 1 \n",
    "                mdb.loc[(mdb['#'] != 1)&(mdb[\"Temp_BUY\"] != 1)&(mdb[\"SELL_EMA8\"] == 1), 'Buy_Sell_EMA8'] = 0 \n",
    "                mdb.loc[(mdb['#'] != 1)&(mdb[\"Temp_BUY\"] != 1)&(mdb[\"SELL_EMA8\"] != 1), 'Buy_Sell_EMA8'] = mdb[\"Buy_Sell_EMA8\"].shift(1)\n",
    "            \n",
    "            ##Activate Sell Below EMA8 when EMA3 Kicks in above x% ## SELL OPTION NUMBER 2##\n",
    " \n",
    "                # step 1  - finding buy price using EMA8 sell Argument#\n",
    "    \n",
    "                mdb.loc[(mdb['#'] == 1), 'BUY_PRICE_EMA8_SELL'] = 0\n",
    "                mdb.loc[(mdb['#'] != 1)&(mdb[\"Buy_Sell_EMA8\"] == 1)&(mdb[\"Buy_Sell_EMA8\"].shift(1)== 0), 'BUY_PRICE_EMA8_SELL'] = mdb[\"Close\"] \n",
    "                mdb.loc[(mdb['#'] != 1)&(mdb[\"Buy_Sell_EMA8\"] == 1)&(mdb[\"Buy_Sell_EMA8\"].shift(1)== 1), 'BUY_PRICE_EMA8_SELL'] = 0 \n",
    "                mdb.loc[(mdb['#'] != 1)&(mdb[\"Buy_Sell_EMA8\"] == 0), 'BUY_PRICE_EMA8_SELL'] = 0 \n",
    "            \n",
    "                # step 2  - creating price line from EMA8 sell Argument#\n",
    "    \n",
    "                mdb.loc[(mdb['#'] == 1), 'BUY_PRICE_EMA8_LINE'] = 0\n",
    "                mdb.loc[(mdb['#'] != 1)&(mdb[\"Buy_Sell_EMA8\"] == 1)&(mdb[\"BUY_PRICE_EMA8_SELL\"]!= 0), 'BUY_PRICE_EMA8_LINE'] = mdb[\"BUY_PRICE_EMA8_SELL\"]\n",
    "                mdb.loc[(mdb['#'] != 1)&(mdb[\"Buy_Sell_EMA8\"] == 1)&(mdb[\"BUY_PRICE_EMA8_SELL\"]== 0), 'BUY_PRICE_EMA8_LINE'] = mdb[\"BUY_PRICE_EMA8_LINE\"].shift(1)\n",
    "                mdb.loc[(mdb['#'] != 1)&(mdb[\"Buy_Sell_EMA8\"] == 0), 'BUY_PRICE_EMA8_LINE'] = 0\n",
    "    \n",
    "                # step 3  - calculating profit on a price_line#\n",
    "    \n",
    "                mdb.loc[(mdb['#'] == 1), 'PRICE_EMA8_LINE_Profit'] = 0\n",
    "                mdb.loc[(mdb['#'] != 1)&(mdb[\"BUY_PRICE_EMA8_LINE\"] != 0), 'PRICE_EMA8_LINE_Profit'] = ((mdb[\"Close\"]-mdb[\"BUY_PRICE_EMA8_LINE\"])/mdb[\"BUY_PRICE_EMA8_LINE\"])\n",
    "                mdb.loc[(mdb['#'] != 1)&(mdb[\"BUY_PRICE_EMA8_LINE\"] == 0), 'PRICE_EMA8_LINE_Profit'] = 0\n",
    "\n",
    "                # step 4  - marking when profit is above x% to exit with EMA3#\n",
    "\n",
    "                mdb.loc[(mdb['#'] == 1), 'PRICE_EMA3_KICKS'] = 0\n",
    "                mdb.loc[(mdb['#'] != 1)&(mdb[\"PRICE_EMA8_LINE_Profit\"] > EMA_Sell_Above_exe), 'PRICE_EMA3_KICKS'] = 1\n",
    "                mdb.loc[(mdb['#'] != 1)&(mdb[\"PRICE_EMA8_LINE_Profit\"] <= EMA_Sell_Above_exe)&(mdb[\"PRICE_EMA3_KICKS\"].shift(1)==1)&(mdb[\"Buy_Sell_EMA8\"]==1), 'PRICE_EMA3_KICKS'] = 1\n",
    "                mdb.loc[(mdb['#'] != 1)&(mdb[\"PRICE_EMA8_LINE_Profit\"] <= EMA_Sell_Above_exe)&(mdb[\"PRICE_EMA3_KICKS\"].shift(1)==1)&(mdb[\"Buy_Sell_EMA8\"]==0), 'PRICE_EMA3_KICKS'] = 0\n",
    "\n",
    "                # step 5  - TEMP SELL EMA3\n",
    "    \n",
    "                mdb.loc[(mdb['#'] == 1), 'TEMP_SELL_EMA3'] = 0\n",
    "                mdb.loc[(mdb['#'] != 1)&(mdb[\"PRICE_EMA3_KICKS\"] == 1)&(mdb[\"SELL_EMA3\"] == 1), 'TEMP_SELL_EMA3'] = \"s\"\n",
    "                mdb.loc[(mdb['#'] != 1)&(mdb[\"PRICE_EMA3_KICKS\"] != 1)&(mdb[\"SELL_EMA3\"] == 1), 'TEMP_SELL_EMA3'] = 0\n",
    "                mdb.loc[(mdb['#'] != 1)&(mdb[\"PRICE_EMA3_KICKS\"] == 1)&(mdb[\"SELL_EMA3\"] != 1), 'TEMP_SELL_EMA3'] = 0\n",
    "                mdb.loc[(mdb['#'] != 1)&(mdb[\"PRICE_EMA3_KICKS\"] != 1)&(mdb[\"SELL_EMA3\"] != 1), 'TEMP_SELL_EMA3'] = 0\n",
    "\n",
    "    \n",
    "                # step 6  - TEMP SELL_LINE_EMA3\n",
    "    \n",
    "                mdb.loc[(mdb['#'] == 1), 'TEMP_SELL_LINE_EMA3'] = 0\n",
    "                mdb.loc[(mdb['#'] != 1)&(mdb[\"PRICE_EMA3_KICKS\"] == 1)&(mdb[\"TEMP_SELL_EMA3\"] == \"s\"), 'TEMP_SELL_LINE_EMA3'] = \"s\"\n",
    "                mdb.loc[(mdb['#'] != 1)&(mdb[\"PRICE_EMA3_KICKS\"] == 1)&(mdb[\"TEMP_SELL_EMA3\"] != \"s\"), 'TEMP_SELL_LINE_EMA3'] = mdb[\"TEMP_SELL_LINE_EMA3\"].shift(1)\n",
    "                mdb.loc[(mdb['#'] != 1)&(mdb[\"PRICE_EMA3_KICKS\"] != 1), 'TEMP_SELL_LINE_EMA3'] = 0\n",
    "    \n",
    "                # step 7  - BUY/SELL EMA3\n",
    "\n",
    "                mdb.loc[(mdb['#'] == 1), 'BUY_SELL_EMA3'] = 0\n",
    "                mdb.loc[(mdb['#'] != 1)&(mdb[\"Buy_Sell_EMA8\"] == 1)&(mdb[\"TEMP_SELL_LINE_EMA3\"] == 's'), 'BUY_SELL_EMA3'] = 0\n",
    "                mdb.loc[(mdb['#'] != 1)&(mdb[\"Buy_Sell_EMA8\"] == 1)&(mdb[\"TEMP_SELL_LINE_EMA3\"] != 's'), 'BUY_SELL_EMA3'] = mdb[\"Buy_Sell_EMA8\"]\n",
    "                mdb.loc[(mdb['#'] != 1)&(mdb[\"Buy_Sell_EMA8\"] == 0)&(mdb[\"TEMP_SELL_LINE_EMA3\"] == 's'), 'BUY_SELL_EMA3'] = mdb[\"Buy_Sell_EMA8\"]\n",
    "                mdb.loc[(mdb['#'] != 1)&(mdb[\"Buy_Sell_EMA8\"] == 0)&(mdb[\"TEMP_SELL_LINE_EMA3\"] != 's'), 'BUY_SELL_EMA3'] = mdb[\"Buy_Sell_EMA8\"]\n",
    "                mdb.loc[(mdb['#'] != 1)&(mdb[\"TEMP_SELL_LINE_EMA3\"].shift(1) == 's')&(mdb[\"TEMP_SELL_LINE_EMA3\"] == 's'), 'BUY_SELL_EMA3'] = mdb[\"Buy_Sell_EMA8\"]\n",
    "\n",
    "\n",
    "                ### BUY / SELL / DECITION ###\n",
    "    \n",
    "                mdb.loc[(mdb['#'] == 1), 'Symbol_Pos'] = 0\n",
    "                mdb.loc[(mdb['#'] != 1)&(mdb[\"BUY_SELL_EMA3\"]== 1)&(mdb[\"BUY_SELL_EMA3\"].shift(1)== 0), 'Symbol_Pos'] = 'BUY'\n",
    "                mdb.loc[(mdb['#'] != 1)&(mdb[\"BUY_SELL_EMA3\"]== 1)&(mdb[\"BUY_SELL_EMA3\"].shift(1)!= 0), 'Symbol_Pos'] = 'HOLD'\n",
    "                mdb.loc[(mdb['#'] != 1)&(mdb[\"BUY_SELL_EMA3\"]!= 1)&(mdb[\"BUY_SELL_EMA3\"].shift(1)!= 1), 'Symbol_Pos'] = 'OUT'\n",
    "                mdb.loc[(mdb['#'] != 1)&(mdb[\"BUY_SELL_EMA3\"]!= 1)&(mdb[\"BUY_SELL_EMA3\"].shift(1)== 1), 'Symbol_Pos'] = 'SELL'\n",
    "\n",
    "    \n",
    "                ### RESETING EMA 8 WHEN EMA3 SELL###\n",
    "    \n",
    "                mdb.loc[(mdb['#'] != 1)&(mdb[\"Symbol_Pos\"]== \"SELL\"), 'SELL_EMA8'] = 0\n",
    "                mdb.loc[(mdb['#'] != 1)&(mdb[\"Symbol_Pos\"]== \"SELL\"), 'BUY_PRICE_EMA8_LINE'] = 0\n",
    "                mdb.loc[(mdb['#'] != 1)&(mdb[\"Symbol_Pos\"]== \"SELL\"), 'PRICE_EMA8_LINE_Profit'] = 0\n",
    "                mdb.loc[(mdb['#'] != 1)&(mdb[\"Symbol_Pos\"]== \"SELL\"), 'Buy_Sell_EMA8'] = 0\n",
    "    \n",
    "    \n",
    "                count = count + 1\n",
    "            \n",
    "            "
   ]
  },
  {
   "cell_type": "markdown",
   "id": "4e2980d0-fbc1-4408-b5be-1e86cc20aeaa",
   "metadata": {},
   "source": [
    "## SELL Below Joker EMA + VOL ARG "
   ]
  },
  {
   "cell_type": "code",
   "execution_count": 100,
   "id": "1de9554a",
   "metadata": {},
   "outputs": [],
   "source": [
    "\n",
    "######## SELL WHEN BELOW EMA8 AND VOL  BIGGER THEN AVG VOL BY X% ##########\n",
    "\n",
    "if Sell_EMA8_exe==1:\n",
    "    if Sell_EMA3_exe==0:\n",
    "        if VOL_EMA3_exe==1:\n",
    "        \n",
    "            count = 0\n",
    "\n",
    "            while count < x:\n",
    "\n",
    "                #Sell_EMA8#\n",
    "\n",
    "                mdb.loc[(mdb['#'] == 1), 'SELL_EMA8'] = 0\n",
    "                mdb.loc[(mdb['#'] != 1)&(mdb['CLS>EMAJ']==1),'SELL_EMA8'] = 0\n",
    "                mdb.loc[(mdb['#'] != 1)&(mdb['CLS>EMAJ']==0),'SELL_EMA8'] = 1\n",
    "    \n",
    "                \n",
    "                #Sell_VOL_EMA3#\n",
    "                \n",
    "                mdb.loc[(mdb['#'] == 1), 'Sell_VOL_EMA3'] = 0\n",
    "                mdb.loc[(mdb['#'] != 1)&(mdb['Volume']*(1+VOL_EMA3_Sell_Above)>=mdb['Vol_EMA3']), 'Sell_VOL_EMA3'] = 1\n",
    "                mdb.loc[(mdb['#'] != 1)&(mdb['Volume']*(1+VOL_EMA3_Sell_Above)<mdb['Vol_EMA3']), 'Sell_VOL_EMA3'] = 0\n",
    "\n",
    "\n",
    "                #Sell Below EMA8 & SELL VOL EMA3#\n",
    "    \n",
    "                mdb.loc[(mdb['#'] == 1), 'Buy_Sell_EMA8'] = 0\n",
    "                mdb.loc[(mdb['#'] != 1)&(mdb[\"Temp_BUY\"] == 1), 'Buy_Sell_EMA8'] = 1 \n",
    "                mdb.loc[(mdb['#'] != 1)&(mdb[\"Temp_BUY\"] != 1)&(mdb[\"SELL_EMA8\"] == 1)&(mdb[\"Sell_VOL_EMA3\"] == 1), 'Buy_Sell_EMA8'] = 0 \n",
    "                mdb.loc[(mdb['#'] != 1)&(mdb[\"Temp_BUY\"] != 1)&(mdb[\"SELL_EMA8\"] != 1)&(mdb[\"Sell_VOL_EMA3\"] == 1), 'Buy_Sell_EMA8'] = mdb[\"Buy_Sell_EMA8\"].shift(1)\n",
    "                mdb.loc[(mdb['#'] != 1)&(mdb[\"Temp_BUY\"] != 1)&(mdb[\"SELL_EMA8\"] == 1)&(mdb[\"Sell_VOL_EMA3\"] != 1), 'Buy_Sell_EMA8'] = mdb[\"Buy_Sell_EMA8\"].shift(1) \n",
    "                mdb.loc[(mdb['#'] != 1)&(mdb[\"Temp_BUY\"] != 1)&(mdb[\"SELL_EMA8\"] != 1)&(mdb[\"Sell_VOL_EMA3\"] != 1), 'Buy_Sell_EMA8'] = mdb[\"Buy_Sell_EMA8\"].shift(1)\n",
    "                \n",
    "\n",
    "                 ### BUY / SELL / DECITION ###\n",
    "    \n",
    "                mdb.loc[(mdb['#'] == 1), 'Symbol_Pos'] = 0\n",
    "                mdb.loc[(mdb['#'] != 1)&(mdb[\"Buy_Sell_EMA8\"]== 1)&(mdb[\"Buy_Sell_EMA8\"].shift(1)== 0), 'Symbol_Pos'] = 'BUY'\n",
    "                mdb.loc[(mdb['#'] != 1)&(mdb[\"Buy_Sell_EMA8\"]== 1)&(mdb[\"Buy_Sell_EMA8\"].shift(1)!= 0), 'Symbol_Pos'] = 'HOLD'\n",
    "                mdb.loc[(mdb['#'] != 1)&(mdb[\"Buy_Sell_EMA8\"]!= 1)&(mdb[\"Buy_Sell_EMA8\"].shift(1)!= 1), 'Symbol_Pos'] = 'OUT'\n",
    "                mdb.loc[(mdb['#'] != 1)&(mdb[\"Buy_Sell_EMA8\"]!= 1)&(mdb[\"Buy_Sell_EMA8\"].shift(1)== 1), 'Symbol_Pos'] = 'SELL'\n",
    "\n",
    "\n",
    "\n",
    "                count = count + 1\n",
    "    \n",
    "    \n"
   ]
  },
  {
   "cell_type": "markdown",
   "id": "e9d6adc8-706e-4b8b-b697-410ad96758f5",
   "metadata": {},
   "source": [
    "## SELL Below Joker EMA + EMA3 + VOL ARG "
   ]
  },
  {
   "cell_type": "code",
   "execution_count": 101,
   "id": "fe3297d3",
   "metadata": {},
   "outputs": [],
   "source": [
    "\n",
    "\n",
    "\n",
    "######## SELL WHEN BELOW EMA8 or if profit above X% SELL BELOW EMA3 AND VOL BIGGER THEN AVG VOL BY X%##########\n",
    "\n",
    "\n",
    "\n",
    "\n",
    "if Sell_EMA8_exe==1:\n",
    "    if Sell_EMA3_exe==1:\n",
    "        if VOL_EMA3_exe==1:\n",
    "            \n",
    "            mdb[\"Symbol_Pos\"]=\"\"\n",
    "            \n",
    "\n",
    "            count = 0\n",
    "\n",
    "            while count < x:\n",
    "\n",
    "                #Sell_VOL_EMA3#\n",
    "                \n",
    "                mdb.loc[(mdb['#'] == 1), 'Sell_VOL_EMA3'] = 0\n",
    "                mdb.loc[(mdb['#'] != 1)&(mdb['Volume']*(1+VOL_EMA3_Sell_Above)>=mdb['Vol_EMA3']), 'Sell_VOL_EMA3'] = 1\n",
    "                mdb.loc[(mdb['#'] != 1)&(mdb['Volume']*(1+VOL_EMA3_Sell_Above)<mdb['Vol_EMA3']), 'Sell_VOL_EMA3'] = 0\n",
    "                \n",
    "                \n",
    "                 #temp1_VOL_EMA3#\n",
    "                \n",
    "                mdb.loc[(mdb['#'] == 1), 'temp1_VOL_EMA3'] = 0\n",
    "                mdb.loc[(mdb['#'] != 1)&(mdb['BUY_SELL_EMA3']==0)&(mdb['Sell_VOL_EMA3']==1) & (mdb['PRICE_EMA3_KICKS']==0) & (mdb['CLS>EMAJ']==0), 'temp1_VOL_EMA3'] = 0\n",
    "                mdb.loc[(mdb['#'] != 1)&(mdb['BUY_SELL_EMA3']==0)&(mdb['Sell_VOL_EMA3']==1) & (mdb['PRICE_EMA3_KICKS']==0) & (mdb['CLS>EMAJ']==1), 'temp1_VOL_EMA3'] = mdb['temp1_VOL_EMA3'].shift(1)\n",
    "                mdb.loc[(mdb['#'] != 1)&(mdb['BUY_SELL_EMA3']==0)&(mdb['Sell_VOL_EMA3']==1) & (mdb['PRICE_EMA3_KICKS']==1) & (mdb['SELL_EMA3']==1), 'temp1_VOL_EMA3'] = 0\n",
    "                mdb.loc[(mdb['#'] != 1)&(mdb['BUY_SELL_EMA3']==0)&(mdb['Sell_VOL_EMA3']==1) & (mdb['PRICE_EMA3_KICKS']==1) & (mdb['SELL_EMA3']==0), 'temp1_VOL_EMA3'] =  mdb['temp1_VOL_EMA3'].shift(1)\n",
    "                \n",
    "                mdb.loc[(mdb['#'] != 1)&(mdb['BUY_SELL_EMA3']==0)&(mdb['Sell_VOL_EMA3']==0) , 'temp1_VOL_EMA3'] = mdb['temp1_VOL_EMA3'].shift(1)\n",
    "                mdb.loc[(mdb['#'] != 1)&(mdb['BUY_SELL_EMA3']==1) , 'temp1_VOL_EMA3'] = mdb['BUY_SELL_EMA3']\n",
    "                \n",
    "                mdb.loc[(mdb['PRICE_EMA3_KICKS'] == 1), 'temp2_VOL_EMA3'] = \"***\"\n",
    "\n",
    "                                                                           \n",
    "                \n",
    "                 ### BUY / SELL / DECITION ###\n",
    "    \n",
    "                mdb.loc[(mdb['#'] == 1), 'Symbol_Pos'] = 0\n",
    "                mdb.loc[(mdb['#'] != 1)&(mdb[\"temp1_VOL_EMA3\"]== 1)&(mdb[\"temp1_VOL_EMA3\"].shift(1)== 0), 'Symbol_Pos'] = 'BUY'\n",
    "                mdb.loc[(mdb['#'] != 1)&(mdb[\"temp1_VOL_EMA3\"]== 1)&(mdb[\"temp1_VOL_EMA3\"].shift(1)!= 0), 'Symbol_Pos'] = 'HOLD'\n",
    "                mdb.loc[(mdb['#'] != 1)&(mdb[\"temp1_VOL_EMA3\"]!= 1)&(mdb[\"temp1_VOL_EMA3\"].shift(1)!= 1), 'Symbol_Pos'] = 'OUT'\n",
    "                mdb.loc[(mdb['#'] != 1)&(mdb[\"temp1_VOL_EMA3\"]!= 1)&(mdb[\"temp1_VOL_EMA3\"].shift(1)== 1), 'Symbol_Pos'] = 'SELL'\n",
    "                \n",
    "                \n",
    "                ###Adding relevant rows to priceline###\n",
    "                mdb.loc[(mdb['#'] != 1)&(mdb[\"BUY_PRICE_EMA8_LINE\"].shift(1)!= 0)&(mdb[\"Symbol_Pos\"]!= \"SELL\"), 'BUY_PRICE_EMA8_LINE'] = mdb[\"BUY_PRICE_EMA8_LINE\"].shift(1)\n",
    "                mdb.loc[(mdb['#'] != 1)&(mdb[\"BUY_PRICE_EMA8_LINE\"].shift(1)!= 0)&(mdb[\"Symbol_Pos\"]== \"SELL\"), 'BUY_PRICE_EMA8_LINE'] = 0\n",
    "                mdb.loc[(mdb['#'] != 1)&(mdb[\"BUY_PRICE_EMA8_LINE\"].shift(1)!= 0)&(mdb[\"Symbol_Pos\"]== \"OUT\"), 'BUY_PRICE_EMA8_LINE'] = 0\n",
    "\n",
    "\n",
    "\n",
    "                \n",
    "                #### CAlculating Profit ###   \n",
    "                \n",
    "                \n",
    "                mdb.loc[(mdb['#'] != 1)&(mdb[\"BUY_PRICE_EMA8_LINE\"].shift(1)!= 0)&(mdb[\"Symbol_Pos\"]!= \"SELL\"), 'PRICE_EMA8_LINE_Profit'] = ((mdb[\"Close\"]-mdb[\"BUY_PRICE_EMA8_LINE\"])/mdb[\"BUY_PRICE_EMA8_LINE\"])\n",
    "                mdb.loc[(mdb['#'] != 1)&(mdb[\"BUY_PRICE_EMA8_LINE\"].shift(1)!= 0)&(mdb[\"Symbol_Pos\"]== \"SELL\"), 'PRICE_EMA8_LINE_Profit'] = 0\n",
    "                mdb.loc[(mdb['#'] != 1)&(mdb[\"BUY_PRICE_EMA8_LINE\"].shift(1)!= 0)&(mdb[\"Symbol_Pos\"]== \"OUT\"), 'PRICE_EMA8_LINE_Profit'] = 0\n",
    "\n",
    "                #### priceline EMA3 Kick ###  \n",
    "                \n",
    "                mdb.loc[(mdb['#'] == 1), 'PRICE_EMA3_KICKS'] = 0\n",
    "                mdb.loc[(mdb['#'] != 1)&(mdb[\"PRICE_EMA8_LINE_Profit\"] > EMA_Sell_Above_exe), 'PRICE_EMA3_KICKS'] = 1\n",
    "                mdb.loc[(mdb['#'] != 1)&(mdb[\"PRICE_EMA8_LINE_Profit\"] <= EMA_Sell_Above_exe)&(mdb[\"PRICE_EMA3_KICKS\"].shift(1)==1)&(mdb[\"temp1_VOL_EMA3\"]==1), 'PRICE_EMA3_KICKS'] = 1\n",
    "                mdb.loc[(mdb['#'] != 1)&(mdb[\"PRICE_EMA8_LINE_Profit\"] <= EMA_Sell_Above_exe)&(mdb[\"PRICE_EMA3_KICKS\"].shift(1)==1)&(mdb[\"temp1_VOL_EMA3\"]==0), 'PRICE_EMA3_KICKS'] = 0\n",
    "\n",
    "                \n",
    "                \n",
    "                ### RESETING WHEN SELL###\n",
    "    \n",
    "          \n",
    "                mdb.loc[(mdb['#'] != 1)&(mdb[\"Symbol_Pos\"]== \"SELL\"), 'BUY_PRICE_EMA8_LINE'] = 0\n",
    "                mdb.loc[(mdb['#'] != 1)&(mdb[\"Symbol_Pos\"]== \"SELL\"), 'PRICE_EMA8_LINE_Profit'] = 0\n",
    "                mdb.loc[(mdb['#'] != 1)&(mdb[\"Symbol_Pos\"]== \"SELL\"), 'temp1_VOL_EMA3'] = 0\n",
    "                mdb.loc[(mdb['#'] != 1)&(mdb[\"Symbol_Pos\"]== \"SELL\"), 'SELL_EMA3'] = 0\n",
    "\n",
    "\n",
    "                \n",
    "                \n",
    "                \n",
    "                \n",
    "                \n",
    "                \n",
    "                \n",
    "                \n",
    "                \n",
    "\n",
    "                count = count + 1\n",
    "\n",
    "                \n",
    "               \n",
    "\n",
    "               \n",
    " \n",
    "\n",
    "\n",
    "\n",
    "\n",
    "\n",
    "        \n",
    "            \n",
    "            \n"
   ]
  },
  {
   "cell_type": "markdown",
   "id": "e80c0aa4-227a-4b69-b55a-7f4ea9eb472a",
   "metadata": {},
   "source": [
    "# BUY & SELL TEST FILES"
   ]
  },
  {
   "cell_type": "code",
   "execution_count": 102,
   "id": "1d044225",
   "metadata": {},
   "outputs": [],
   "source": [
    "mdb.to_csv(Buy_Sell_Path + 'Buy_Test.csv', columns=('#', 'Name','Date','Close','Candle','Vol_EMA3_ARG','MA_LINED','CLS>MA20','CLS>EMA8','CLS>EMA3','MA20TOUCH','SEQ_UP/DOWN','UP_DW_TREND','BUY_Decision','Temp_BUY','Buy_Sell_EMA8','TEMP_SELL_EMA3','TEMP_SELL_LINE_EMA3','BUY_SELL_EMA3','Symbol_Pos'),index=False)\n"
   ]
  },
  {
   "cell_type": "code",
   "execution_count": 103,
   "id": "aa7fa05e",
   "metadata": {},
   "outputs": [],
   "source": [
    "mdb.to_csv(Buy_Sell_Path + 'M_buy_sell.csv', columns=('#', 'Name','Date','Close','Symbol_Pos'))\n"
   ]
  },
  {
   "cell_type": "code",
   "execution_count": 104,
   "id": "cba37e58",
   "metadata": {},
   "outputs": [],
   "source": [
    "#mdb.to_csv(Buy_Sell_Path + \"M_P_L_Analysis.xlsx\",columns=['#', 'Name','Date','Close','Symbol_Pos'], sheet_name = \"M_Raw\")"
   ]
  },
  {
   "cell_type": "code",
   "execution_count": 105,
   "id": "0223614a",
   "metadata": {
    "scrolled": true
   },
   "outputs": [
    {
     "data": {
      "text/html": [
       "<div>\n",
       "<style scoped>\n",
       "    .dataframe tbody tr th:only-of-type {\n",
       "        vertical-align: middle;\n",
       "    }\n",
       "\n",
       "    .dataframe tbody tr th {\n",
       "        vertical-align: top;\n",
       "    }\n",
       "\n",
       "    .dataframe thead th {\n",
       "        text-align: right;\n",
       "    }\n",
       "</style>\n",
       "<table border=\"1\" class=\"dataframe\">\n",
       "  <thead>\n",
       "    <tr style=\"text-align: right;\">\n",
       "      <th></th>\n",
       "      <th>ARGUMENTS</th>\n",
       "      <th>MONTHLY-BUY</th>\n",
       "      <th>MONTHLY-SELL</th>\n",
       "    </tr>\n",
       "  </thead>\n",
       "  <tbody>\n",
       "    <tr>\n",
       "      <th>0</th>\n",
       "      <td>VOL_EMA3</td>\n",
       "      <td>1</td>\n",
       "      <td></td>\n",
       "    </tr>\n",
       "    <tr>\n",
       "      <th>1</th>\n",
       "      <td>VOL_VAR%</td>\n",
       "      <td>0.05</td>\n",
       "      <td></td>\n",
       "    </tr>\n",
       "    <tr>\n",
       "      <th>2</th>\n",
       "      <td>Candle</td>\n",
       "      <td>1</td>\n",
       "      <td></td>\n",
       "    </tr>\n",
       "    <tr>\n",
       "      <th>3</th>\n",
       "      <td>MA_Lined</td>\n",
       "      <td>1</td>\n",
       "      <td></td>\n",
       "    </tr>\n",
       "    <tr>\n",
       "      <th>4</th>\n",
       "      <td>Above_MA20</td>\n",
       "      <td>1</td>\n",
       "      <td></td>\n",
       "    </tr>\n",
       "    <tr>\n",
       "      <th>5</th>\n",
       "      <td>MA20_Crossed</td>\n",
       "      <td>1</td>\n",
       "      <td></td>\n",
       "    </tr>\n",
       "    <tr>\n",
       "      <th>6</th>\n",
       "      <td>EMA8</td>\n",
       "      <td>1</td>\n",
       "      <td></td>\n",
       "    </tr>\n",
       "    <tr>\n",
       "      <th>7</th>\n",
       "      <td>Sequince</td>\n",
       "      <td>1</td>\n",
       "      <td></td>\n",
       "    </tr>\n",
       "    <tr>\n",
       "      <th>8</th>\n",
       "      <td>Trend</td>\n",
       "      <td>1</td>\n",
       "      <td></td>\n",
       "    </tr>\n",
       "    <tr>\n",
       "      <th>9</th>\n",
       "      <td>Trend_VAR_%</td>\n",
       "      <td>0.2</td>\n",
       "      <td></td>\n",
       "    </tr>\n",
       "    <tr>\n",
       "      <th>10</th>\n",
       "      <td>Sell_EMA_JOKER</td>\n",
       "      <td></td>\n",
       "      <td>1</td>\n",
       "    </tr>\n",
       "    <tr>\n",
       "      <th>11</th>\n",
       "      <td>Sell EMA3</td>\n",
       "      <td></td>\n",
       "      <td>1</td>\n",
       "    </tr>\n",
       "    <tr>\n",
       "      <th>12</th>\n",
       "      <td>EMA3_Sell_Above_%</td>\n",
       "      <td></td>\n",
       "      <td>1.4</td>\n",
       "    </tr>\n",
       "    <tr>\n",
       "      <th>13</th>\n",
       "      <td>VOL_EMA3</td>\n",
       "      <td></td>\n",
       "      <td>1</td>\n",
       "    </tr>\n",
       "    <tr>\n",
       "      <th>14</th>\n",
       "      <td>Vol_EMA3_Sell_Above_%</td>\n",
       "      <td></td>\n",
       "      <td>0.05</td>\n",
       "    </tr>\n",
       "    <tr>\n",
       "      <th>15</th>\n",
       "      <td>JOKER_EMA</td>\n",
       "      <td></td>\n",
       "      <td>8</td>\n",
       "    </tr>\n",
       "  </tbody>\n",
       "</table>\n",
       "</div>"
      ],
      "text/plain": [
       "                ARGUMENTS MONTHLY-BUY MONTHLY-SELL\n",
       "0                VOL_EMA3           1             \n",
       "1                VOL_VAR%        0.05             \n",
       "2                  Candle           1             \n",
       "3                MA_Lined           1             \n",
       "4              Above_MA20           1             \n",
       "5            MA20_Crossed           1             \n",
       "6                    EMA8           1             \n",
       "7                Sequince           1             \n",
       "8                   Trend           1             \n",
       "9             Trend_VAR_%         0.2             \n",
       "10         Sell_EMA_JOKER                        1\n",
       "11              Sell EMA3                        1\n",
       "12      EMA3_Sell_Above_%                      1.4\n",
       "13               VOL_EMA3                        1\n",
       "14  Vol_EMA3_Sell_Above_%                     0.05\n",
       "15              JOKER_EMA                        8"
      ]
     },
     "execution_count": 105,
     "metadata": {},
     "output_type": "execute_result"
    }
   ],
   "source": [
    "#Print Console\n",
    "\n",
    "PANEL = pd.DataFrame([['VOL_EMA3',Vol_EMA3_exe, ''], ['VOL_VAR%',Above_VOL_exe, ''], \n",
    "                      ['Candle',Candle_exe, ''], ['MA_Lined',MA_Lined_exe, ''] ,['Above_MA20',Above_MA20_exe, ''] ,\n",
    "                      ['MA20_Crossed',MA20_Crossed_exe, ''] ,['EMA8',EMA8_exe, ''] ,['Sequince',Sequince_exe, ''] ,\n",
    "                      ['Trend',Trend_exe, ''],['Trend_VAR_%',Trend_GAP_exe, ''],['Sell_EMA_JOKER','',Sell_EMA8_exe ],['Sell EMA3','',Sell_EMA3_exe ],['EMA3_Sell_Above_%','', EMA_Sell_Above_exe],['VOL_EMA3','',VOL_EMA3_exe], ['Vol_EMA3_Sell_Above_%','', VOL_EMA3_Sell_Above],['JOKER_EMA','', J] ], columns=['ARGUMENTS','MONTHLY-BUY', 'MONTHLY-SELL'])\n",
    "\n",
    "\n",
    "PANEL.to_csv(Buy_Sell_Path + \"M_Panel.csv\")\n",
    "\n",
    "PANEL"
   ]
  },
  {
   "cell_type": "code",
   "execution_count": 106,
   "id": "5ce1405f",
   "metadata": {},
   "outputs": [],
   "source": [
    "#with pd.ExcelWriter(Buy_Sell_Path + \"M_P_L_Analysis.xlsx\") as writer:  # doctest: +SKIP\n",
    "  #  mdb.to_excel(writer,columns=('#', 'Name','Date','Close','Symbol_Pos'), sheet_name='m_buy_sell')\n",
    "  #  PANEL.to_excel(writer, sheet_name='m_panel')\n",
    " #   mdb.to_excel(writer,columns=('#', 'Name','Date','Close','Candle','Vol_EMA3_ARG','MA_LINED','CLS>MA20','CLS>EMA8','MA20TOUCH','SEQ_UP/DOWN','UP_DW_TREND','Buy_Combined','BUY_Decision','Temp_BUY'), sheet_name='m_buy')"
   ]
  },
  {
   "cell_type": "markdown",
   "id": "324be17e-fc30-4af9-8fa4-72c829e8d7a2",
   "metadata": {},
   "source": [
    "# CREATING WEEKLY DATABASE"
   ]
  },
  {
   "cell_type": "code",
   "execution_count": 107,
   "id": "14078252",
   "metadata": {},
   "outputs": [],
   "source": [
    "BTC_Data_Folder = 'c:/Enigma/DataBase/BTS/'\n"
   ]
  },
  {
   "cell_type": "code",
   "execution_count": 108,
   "id": "afc5a756",
   "metadata": {},
   "outputs": [],
   "source": [
    "mdb.to_csv(BTC_Data_Folder+'mdb_wdb.csv', columns=('Ref','Symbol_Pos','Temp_BUY'), index=False)\n",
    "\n"
   ]
  },
  {
   "cell_type": "code",
   "execution_count": 109,
   "id": "4d99ed06",
   "metadata": {},
   "outputs": [],
   "source": [
    "#wdb.to_csv(BTC_Data_Folder+'wdb+mdb_Ref.csv', columns=('Ref','Name','Date','Open', 'High', 'Low', 'Close', 'Adj_Close', 'Volume'), index= False)   "
   ]
  },
  {
   "cell_type": "code",
   "execution_count": 110,
   "id": "212f0641",
   "metadata": {},
   "outputs": [],
   "source": [
    "mdb_ref = pd.DataFrame()\n",
    "wdb_ref= pd.DataFrame()\n",
    "wdb_mdb_ref = pd.DataFrame()\n",
    "wdb_mdb_temp = pd.DataFrame()"
   ]
  },
  {
   "cell_type": "code",
   "execution_count": 111,
   "id": "e7be8c36",
   "metadata": {},
   "outputs": [],
   "source": [
    "mdb_ref = pd.read_csv(BTC_Data_Folder+'mdb_wdb.csv')\n",
    "wdb_ref = pd.read_csv(BTC_Data_Folder+'mwdb.csv')"
   ]
  },
  {
   "cell_type": "code",
   "execution_count": 112,
   "id": "d1fd5758",
   "metadata": {},
   "outputs": [],
   "source": [
    "wdb_mdb_temp = pd.merge(wdb_ref, mdb_ref, how='outer' )\n"
   ]
  },
  {
   "cell_type": "code",
   "execution_count": 113,
   "id": "d69f4c9c",
   "metadata": {},
   "outputs": [],
   "source": [
    "wdb_mdb_temp['#'] = wdb_mdb_temp.groupby(wdb_mdb_temp['Name']).cumcount()+1"
   ]
  },
  {
   "cell_type": "markdown",
   "id": "229edc83-4910-4898-a938-4574a983fb76",
   "metadata": {},
   "source": [
    "## Adding Monthly Buy Mark to Weekly Database"
   ]
  },
  {
   "cell_type": "code",
   "execution_count": 114,
   "id": "1c6f1206",
   "metadata": {},
   "outputs": [],
   "source": [
    "wdb_mdb_temp['M_IN']=0\n",
    "\n",
    "count = 0\n",
    "\n",
    "while count < x:\n",
    "    \n",
    "    wdb_mdb_temp.loc[(wdb_mdb_temp['#'] == 1), 'M_IN'] = 0\n",
    "    wdb_mdb_temp.loc[(wdb_mdb_temp['#'] != 1)&(wdb_mdb_temp['Symbol_Pos'] == 'BUY'), 'M_IN'] = 1\n",
    "    wdb_mdb_temp.loc[(wdb_mdb_temp['#'] != 1)&(wdb_mdb_temp['Symbol_Pos'] == 'HOLD'), 'M_IN'] = 1\n",
    "    wdb_mdb_temp.loc[(wdb_mdb_temp['#'] != 1)&(wdb_mdb_temp['Symbol_Pos'] == 'SELL'), 'M_IN'] = 0\n",
    "    wdb_mdb_temp.loc[(wdb_mdb_temp['#'] != 1)&(wdb_mdb_temp['Symbol_Pos'] == 'OUT'), 'M_IN'] = 0\n",
    "\n",
    "\n",
    "    wdb_mdb_temp.loc[(wdb_mdb_temp['#'] != 1)&(wdb_mdb_temp['Symbol_Pos'] != 'HOLD')&(wdb_mdb_temp['Symbol_Pos'] != 'BUY')&(wdb_mdb_temp['Symbol_Pos'] != 'SELL')&(wdb_mdb_temp['Symbol_Pos'] != 'OUT'), 'M_IN'] = wdb_mdb_temp['M_IN'].shift(1)\n",
    "\n",
    "    \n",
    "    count = count + 1\n",
    "\n"
   ]
  },
  {
   "cell_type": "code",
   "execution_count": 115,
   "id": "be87de47",
   "metadata": {},
   "outputs": [],
   "source": [
    "\n",
    "wdb_mdb_temp.to_csv(BTC_Data_Folder+'tempweekly.csv')"
   ]
  },
  {
   "cell_type": "code",
   "execution_count": 116,
   "id": "b16147ba",
   "metadata": {},
   "outputs": [],
   "source": [
    "wdb_mdb_ref[\"Ref\"] = wdb_mdb_temp.groupby(wdb_mdb_temp[\"group_index_ref\"]).Ref.last()\n",
    "wdb_mdb_ref[\"Name\"] = wdb_mdb_temp.groupby(wdb_mdb_temp[\"group_index_ref\"]).Name.last()\n",
    "wdb_mdb_ref[\"Date\"] = wdb_mdb_temp.groupby(wdb_mdb_temp[\"group_index_ref\"]).Date.last()\n",
    "wdb_mdb_ref[\"Open\"] = wdb_mdb_temp.groupby(wdb_mdb_temp[\"group_index_ref\"]).Open.first()\n",
    "wdb_mdb_ref[\"High\"] = wdb_mdb_temp.groupby(wdb_mdb_temp[\"group_index_ref\"]).High.max()\n",
    "wdb_mdb_ref[\"Low\"] = wdb_mdb_temp.groupby(wdb_mdb_temp[\"group_index_ref\"]).Low.min()\n",
    "wdb_mdb_ref[\"Close\"] = wdb_mdb_temp.groupby(wdb_mdb_temp[\"group_index_ref\"]).Close.last()\n",
    "wdb_mdb_ref[\"Adj_Close\"] = wdb_mdb_temp.groupby(wdb_mdb_temp[\"group_index_ref\"]).Adj_Close.last()\n",
    "wdb_mdb_ref[\"Volume\"] = wdb_mdb_temp.groupby(wdb_mdb_temp[\"group_index_ref\"]).Volume.sum()\n",
    "wdb_mdb_ref[\"M_IN\"] = wdb_mdb_temp.groupby(wdb_mdb_temp[\"group_index_ref\"]).M_IN.last()\n"
   ]
  },
  {
   "cell_type": "code",
   "execution_count": 117,
   "id": "be721e49",
   "metadata": {},
   "outputs": [],
   "source": [
    "DBdimPath = 'c:/Enigma/DataBase/'"
   ]
  },
  {
   "cell_type": "code",
   "execution_count": 118,
   "id": "d767fe49",
   "metadata": {},
   "outputs": [],
   "source": [
    "wdb_mdb_ref.sort_values(by=['Name', 'Date'],inplace=True)"
   ]
  },
  {
   "cell_type": "markdown",
   "id": "ddb3c32f-3c21-4d8f-91dd-60cd9efba37a",
   "metadata": {},
   "source": [
    "## Saving Weekly Database and Weekly Database Ref for Daily Database"
   ]
  },
  {
   "cell_type": "code",
   "execution_count": 119,
   "id": "f55885b7",
   "metadata": {},
   "outputs": [],
   "source": [
    "\n",
    "wdb_mdb_ref.to_csv(BTC_Data_Folder+'wdb_mdb_ref.csv', index=False)"
   ]
  },
  {
   "cell_type": "code",
   "execution_count": 120,
   "id": "4e9d6f23",
   "metadata": {},
   "outputs": [],
   "source": [
    "wdb_mdb_ref.to_csv(DBdimPath+'weekly_db.csv', index=False)"
   ]
  },
  {
   "cell_type": "code",
   "execution_count": null,
   "id": "0227d90f",
   "metadata": {},
   "outputs": [],
   "source": []
  },
  {
   "cell_type": "code",
   "execution_count": null,
   "id": "6f771f55",
   "metadata": {},
   "outputs": [],
   "source": []
  }
 ],
 "metadata": {
  "kernelspec": {
   "display_name": "Python 3 (ipykernel)",
   "language": "python",
   "name": "python3"
  },
  "language_info": {
   "codemirror_mode": {
    "name": "ipython",
    "version": 3
   },
   "file_extension": ".py",
   "mimetype": "text/x-python",
   "name": "python",
   "nbconvert_exporter": "python",
   "pygments_lexer": "ipython3",
   "version": "3.9.7"
  }
 },
 "nbformat": 4,
 "nbformat_minor": 5
}
