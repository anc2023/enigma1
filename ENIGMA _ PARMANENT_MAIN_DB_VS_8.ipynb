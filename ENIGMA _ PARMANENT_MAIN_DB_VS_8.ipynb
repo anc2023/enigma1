{
 "cells": [
  {
   "cell_type": "markdown",
   "id": "d756325d-8cc6-4221-9dbf-7cf49cee4462",
   "metadata": {},
   "source": []
  },
  {
   "cell_type": "markdown",
   "id": "3b5be209-6665-43e0-b292-b3bf58d264ae",
   "metadata": {},
   "source": [
    "# PARMANENT DATABASE V8 START"
   ]
  },
  {
   "cell_type": "code",
   "execution_count": 1,
   "id": "c35aa002",
   "metadata": {},
   "outputs": [],
   "source": [
    "import pandas as pd\n",
    "import yfinance as yf\n",
    "import datetime\n",
    "import time\n",
    "import requests\n",
    "import io\n",
    "import numpy as np\n",
    "#import pytz\n",
    "\n"
   ]
  },
  {
   "cell_type": "code",
   "execution_count": 2,
   "id": "6c8049c7",
   "metadata": {},
   "outputs": [],
   "source": [
    "# EMPTY DATABASE CREATION\n",
    "DBMAIN = pd.DataFrame()"
   ]
  },
  {
   "cell_type": "code",
   "execution_count": 3,
   "id": "31e4c1dd",
   "metadata": {},
   "outputs": [],
   "source": [
    "# DB Path\n",
    "\n",
    "DBPath = 'c:/Enigma/DataBase/Main/'"
   ]
  },
  {
   "cell_type": "code",
   "execution_count": 4,
   "id": "7df6e8c2",
   "metadata": {},
   "outputs": [],
   "source": [
    "# MAIN DATABASE RUNNING PERIOD DEFINITION\n",
    "\n",
    "start = datetime.datetime(2010,1,4)\n",
    "end = datetime.datetime(2022,2,1)"
   ]
  },
  {
   "cell_type": "markdown",
   "id": "fe8626d4-22ca-4ae5-9631-1bb5cddfb816",
   "metadata": {},
   "source": [
    "## Picking Symbols"
   ]
  },
  {
   "cell_type": "code",
   "execution_count": 5,
   "id": "afc1f629",
   "metadata": {},
   "outputs": [],
   "source": [
    "#SYMBOLS \n",
    "#Symbols = [  'PG'  ,  'NVDA'  ,  'MCD' , 'ENPH' , 'ETSY' ,  'LOW'  ,  'JPM'  ,'TSLA',  'HD'  ,  'GOOGL'  ,  'DHR'  ,  'CSCO'  ,  'BIO'  ,  'BAC'  ,  'AAPL']\n",
    "\n",
    "\n",
    "\n",
    "\n",
    "\n",
    "\n",
    "Symbols = ['ABBV' , 'AAPL' , 'ABT' , 'ACN' , 'AGN' , 'AIG' , 'AMZN' , 'AXP' , 'BMY' , 'BIIB' , 'BAC' , 'C' , 'CAT' , 'CMCSA' , 'COF' , 'COST' , 'CSCO' , 'CVS' , 'DHR' , 'DIS' , 'DUK' , 'EMR' , 'EXC' , 'F' , 'FB' , 'FDX' , 'GD' , 'GILD' , 'HAL' , 'HD' , 'HON' , 'INTC' , 'JNJ' , 'JPM' , 'KMI' , 'KO' , 'LLY' , 'LMT' , 'LOW' , 'MCD' , 'MDLZ' , 'MDT' , 'MET' , 'MMM' , 'MRK' , 'MS' , 'MSFT' , 'NEE' , 'NKE' , 'ORCL' , 'OXY' , 'PEP' , 'PFE' , 'PM' , 'PYPL' , 'RTN' , 'SBUX' , 'SPG' , 'T' , 'TGT' , 'TXN' , 'UNH' , 'UPS' , 'USB' , 'VZ' , 'WFC' , 'TSLA' , 'NVDA' , 'V' , 'PG' , 'AOS' , 'ABBV' , 'GOOGL' , 'MO' , 'AAL' , 'AMP' , 'APH' , 'ANTM' , 'APTV' , 'ANET' , 'ADP' , 'AVB' , 'BDX' , 'BBY' , 'BIO' , 'BKNG' , 'BXP' , 'CE' , 'CNP' , 'SCHW' , 'CZR' , 'CMG' , 'COP' , 'CSX' , 'ENPH' , 'ETSY' , 'HBAN' , 'TEVA' , 'CME' , 'PTC']\n",
    "#Symbols = ['UNH'  ,  'TXN'  ,  'PG'  ,  'PFE'  ,  'PEP'  ,  'NVDA'  ,  'MCD'  ,  'LOW'  ,  'LLY'  ,  'JPM'  ,  'JNJ'  ,  'HD'  ,  'GOOGL'  ,  'DHR'  ,  'CSCO'  ,  'COST'  ,  'BIO'  ,  'BAC'  ,  'APTV'  ,  'APH'  ,  'ANTM'  ,  'ANET'  ,  'AMP'  ,  'ADP'  ,  'AAPL']\n",
    "\n",
    "#Symbols = ['AAPL' , 'TSLA',]\n",
    "\n",
    "\n"
   ]
  },
  {
   "cell_type": "markdown",
   "id": "dc5c394e-3efa-4428-af3a-d339a17f7765",
   "metadata": {},
   "source": [
    "## Running Symbols (YAHOO FINANCE)\n"
   ]
  },
  {
   "cell_type": "code",
   "execution_count": 6,
   "id": "914dc229",
   "metadata": {},
   "outputs": [
    {
     "name": "stdout",
     "output_type": "stream",
     "text": [
      "0:ABBV,1:AAPL,2:ABT,3:ACN,4:AGN,\n",
      "1 Failed download:\n",
      "- AGN: No data found, symbol may be delisted\n",
      "5:AIG,6:AMZN,7:AXP,8:BMY,9:BIIB,10:BAC,11:C,12:CAT,13:CMCSA,14:COF,15:COST,16:CSCO,17:CVS,18:DHR,19:DIS,20:DUK,21:EMR,22:EXC,23:F,24:FB,25:FDX,26:GD,27:GILD,28:HAL,29:HD,30:HON,31:INTC,32:JNJ,33:JPM,34:KMI,35:KO,36:LLY,37:LMT,38:LOW,39:MCD,40:MDLZ,41:MDT,42:MET,43:MMM,44:MRK,45:MS,46:MSFT,47:NEE,48:NKE,49:ORCL,50:OXY,51:PEP,52:PFE,53:PM,54:PYPL,55:RTN,\n",
      "1 Failed download:\n",
      "- RTN: No data found, symbol may be delisted\n",
      "56:SBUX,57:SPG,58:T,59:TGT,60:TXN,61:UNH,62:UPS,63:USB,64:VZ,65:WFC,66:TSLA,67:NVDA,68:V,69:PG,70:AOS,0:ABBV,72:GOOGL,73:MO,74:AAL,75:AMP,76:APH,77:ANTM,78:APTV,79:ANET,80:ADP,81:AVB,82:BDX,83:BBY,84:BIO,85:BKNG,86:BXP,87:CE,88:CNP,89:SCHW,90:CZR,91:CMG,92:COP,93:CSX,94:ENPH,95:ETSY,96:HBAN,97:TEVA,98:CME,99:PTC,"
     ]
    }
   ],
   "source": [
    "# iterate over each symbol\n",
    "for i in Symbols:  \n",
    "    \n",
    "    # print the symbol which is being downloaded\n",
    "    print( str(Symbols.index(i)) + str(':') + i , end=',', flush=True)  \n",
    "    \n",
    "    try:\n",
    "        # download the stock price (from yahoo finance)\n",
    "       \n",
    "        stock = yf.download(i, start=start, end=end , progress=False)\n",
    "        \n",
    "        # append the individual stock prices \n",
    "        if len(stock) == 0:\n",
    "            None\n",
    "        else:\n",
    "            stock['Name']=i\n",
    "            DBMAIN = DBMAIN.append(stock, sort=False)\n",
    "    except Exception:\n",
    "        None"
   ]
  },
  {
   "cell_type": "markdown",
   "id": "f2cc8087-d21f-4c52-b23c-268f453ddb28",
   "metadata": {
    "toc-hr-collapsed": true
   },
   "source": [
    "# CREATING MAIN DATABASE"
   ]
  },
  {
   "cell_type": "code",
   "execution_count": 7,
   "id": "625211cc",
   "metadata": {},
   "outputs": [],
   "source": [
    "DBMAIN.to_csv(DBPath + 'DBMAIN.csv')"
   ]
  },
  {
   "cell_type": "code",
   "execution_count": null,
   "id": "027338a6",
   "metadata": {},
   "outputs": [],
   "source": []
  }
 ],
 "metadata": {
  "kernelspec": {
   "display_name": "Python 3 (ipykernel)",
   "language": "python",
   "name": "python3"
  },
  "language_info": {
   "codemirror_mode": {
    "name": "ipython",
    "version": 3
   },
   "file_extension": ".py",
   "mimetype": "text/x-python",
   "name": "python",
   "nbconvert_exporter": "python",
   "pygments_lexer": "ipython3",
   "version": "3.9.7"
  },
  "toc-autonumbering": true,
  "toc-showmarkdowntxt": true
 },
 "nbformat": 4,
 "nbformat_minor": 5
}
