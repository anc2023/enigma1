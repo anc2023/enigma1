{
 "cells": [
  {
   "cell_type": "markdown",
   "id": "c8c8c0f3",
   "metadata": {},
   "source": [
    "# HYBRID DATABASE V8\n"
   ]
  },
  {
   "cell_type": "code",
   "execution_count": 1,
   "id": "99023c77",
   "metadata": {},
   "outputs": [],
   "source": [
    "import pandas as pd\n",
    "import yfinance as yf\n",
    "import datetime\n",
    "import time\n",
    "import requests\n",
    "import io\n",
    "import numpy as np\n",
    "import PySimpleGUI as sg\n",
    "import xlwt\n",
    "from xlwt.Workbook import *\n",
    "from pandas import ExcelWriter\n",
    "import xlsxwriter\n",
    "import pandas_ta as ta\n",
    "\n",
    "\n"
   ]
  },
  {
   "cell_type": "code",
   "execution_count": 2,
   "id": "6e67cc24",
   "metadata": {},
   "outputs": [],
   "source": [
    "# EMPTY DATABASE CREATION\n",
    "DBMAIN = pd.DataFrame()\n",
    "DBMAINnew = pd.DataFrame()\n",
    "DBMAINfinal = pd.DataFrame()"
   ]
  },
  {
   "cell_type": "code",
   "execution_count": 3,
   "id": "ddb2dd6a",
   "metadata": {},
   "outputs": [],
   "source": [
    "# DBMain Path\n",
    "\n",
    "DBPath = 'c:/Enigma/DataBase/Main/'"
   ]
  },
  {
   "cell_type": "code",
   "execution_count": 4,
   "id": "e992839a",
   "metadata": {},
   "outputs": [],
   "source": [
    "# Import Last DBMAIN \n",
    "\n",
    "DBMAIN = pd.read_csv(DBPath + 'DBmain.csv')"
   ]
  },
  {
   "cell_type": "code",
   "execution_count": 5,
   "id": "83e1e2fc",
   "metadata": {},
   "outputs": [
    {
     "data": {
      "text/plain": [
       "'2022-01-31'"
      ]
     },
     "execution_count": 5,
     "metadata": {},
     "output_type": "execute_result"
    }
   ],
   "source": [
    "#Finding last Date On imported DB\n",
    "start_date=DBMAIN['Date'].iloc[-1]\n",
    "start_date"
   ]
  },
  {
   "cell_type": "code",
   "execution_count": 6,
   "id": "fc939bc8",
   "metadata": {},
   "outputs": [],
   "source": [
    "#Defining start date as from last date in Main DB\n",
    "\n",
    "\n",
    "start_date =  pd.to_datetime(start_date)"
   ]
  },
  {
   "cell_type": "code",
   "execution_count": 7,
   "id": "cf00397f",
   "metadata": {},
   "outputs": [],
   "source": [
    "start_date = start_date + datetime.timedelta(days=2)\n"
   ]
  },
  {
   "cell_type": "code",
   "execution_count": 8,
   "id": "c9307095",
   "metadata": {},
   "outputs": [],
   "source": [
    "start = start_date\n"
   ]
  },
  {
   "cell_type": "code",
   "execution_count": 9,
   "id": "2aee1f56",
   "metadata": {},
   "outputs": [],
   "source": [
    "# END Date - Today()\n",
    "\n",
    "#start = datetime.datetime(2010,1,4)\n",
    "end = datetime.datetime.today()"
   ]
  },
  {
   "cell_type": "markdown",
   "id": "cf1a5a7f-58b4-405d-878d-85a0e10e0374",
   "metadata": {},
   "source": [
    "## Picking Symbols\n"
   ]
  },
  {
   "cell_type": "code",
   "execution_count": 10,
   "id": "39fd7a24",
   "metadata": {},
   "outputs": [],
   "source": [
    "# SYMBOLS \n",
    "\n",
    "#Symbols = [  'PG'  ,  'NVDA'  ,  'MCD' , 'ENPH' , 'ETSY' ,  'LOW'  ,  'JPM'  ,'TSLA',  'HD'  ,  'GOOGL'  ,  'DHR'  ,  'CSCO'  ,  'BIO'  ,  'BAC'  ,  'AAPL']\n",
    "\n",
    "\n",
    "Symbols = ['ABBV' , 'AAPL' , 'ABT' , 'ACN' , 'AGN' , 'AIG' , 'AMZN' , 'AXP' , 'BMY' , 'BIIB' , 'BAC' , 'C' , 'CAT' , 'CMCSA' , 'COF' , 'COST' , 'CSCO' , 'CVS' , 'DHR' , 'DIS' , 'DUK' , 'EMR' , 'EXC' , 'F' , 'FB' , 'FDX' , 'GD' , 'GILD' , 'HAL' , 'HD' , 'HON' , 'INTC' , 'JNJ' , 'JPM' , 'KMI' , 'KO' , 'LLY' , 'LMT' , 'LOW' , 'MCD' , 'MDLZ' , 'MDT' , 'MET' , 'MMM' , 'MRK' , 'MS' , 'MSFT' , 'NEE' , 'NKE' , 'ORCL' , 'OXY' , 'PEP' , 'PFE' , 'PM' , 'PYPL' , 'RTN' , 'SBUX' , 'SPG' , 'T' , 'TGT' , 'TXN' , 'UNH' , 'UPS' , 'USB' , 'VZ' , 'WFC' , 'TSLA' , 'NVDA' , 'V' , 'PG' , 'AOS' , 'ABBV' , 'GOOGL' , 'MO' , 'AAL' , 'AMP' , 'APH' , 'ANTM' , 'APTV' , 'ANET' , 'ADP' , 'AVB' , 'BDX' , 'BBY' , 'BIO' , 'BKNG' , 'BXP' , 'CE' , 'CNP' , 'SCHW' , 'CZR' , 'CMG' , 'COP' , 'CSX' , 'ENPH' , 'ETSY' , 'HBAN' , 'TEVA' , 'CME' , 'PTC']\n",
    "#Symbols = ['UNH'  ,  'TXN'  ,  'PG'  ,  'PFE'  ,  'PEP'  ,  'NVDA'  ,  'MCD'  ,  'LOW'  ,  'LLY'  ,  'JPM'  ,  'JNJ'  ,  'HD'  ,  'GOOGL'  ,  'DHR'  ,  'CSCO'  ,  'COST'  ,  'BIO'  ,  'BAC'  ,  'APTV'  ,  'APH'  ,  'ANTM'  ,  'ANET'  ,  'AMP'  ,  'ADP'  ,  'AAPL']\n",
    "#Symbols = ['AAPL' , 'TSLA']\n",
    "\n"
   ]
  },
  {
   "cell_type": "markdown",
   "id": "b25a70e1-95fd-4907-a77b-d2610baa0d67",
   "metadata": {},
   "source": [
    "## Running Symbols\n"
   ]
  },
  {
   "cell_type": "code",
   "execution_count": 11,
   "id": "9adb2a20",
   "metadata": {},
   "outputs": [
    {
     "name": "stdout",
     "output_type": "stream",
     "text": [
      "0:ABBV,1:AAPL,2:ABT,3:ACN,4:AGN,\n",
      "1 Failed download:\n",
      "- AGN: No data found, symbol may be delisted\n",
      "5:AIG,6:AMZN,7:AXP,8:BMY,9:BIIB,10:BAC,11:C,12:CAT,13:CMCSA,14:COF,15:COST,16:CSCO,17:CVS,18:DHR,19:DIS,20:DUK,21:EMR,22:EXC,23:F,24:FB,25:FDX,26:GD,27:GILD,28:HAL,29:HD,30:HON,31:INTC,32:JNJ,33:JPM,34:KMI,35:KO,36:LLY,37:LMT,38:LOW,39:MCD,40:MDLZ,41:MDT,42:MET,43:MMM,44:MRK,45:MS,46:MSFT,47:NEE,48:NKE,49:ORCL,50:OXY,51:PEP,52:PFE,53:PM,54:PYPL,55:RTN,\n",
      "1 Failed download:\n",
      "- RTN: No data found, symbol may be delisted\n",
      "56:SBUX,57:SPG,58:T,59:TGT,60:TXN,61:UNH,62:UPS,63:USB,64:VZ,65:WFC,66:TSLA,67:NVDA,68:V,69:PG,70:AOS,0:ABBV,72:GOOGL,73:MO,74:AAL,75:AMP,76:APH,77:ANTM,78:APTV,79:ANET,80:ADP,81:AVB,82:BDX,83:BBY,84:BIO,85:BKNG,86:BXP,87:CE,88:CNP,89:SCHW,90:CZR,91:CMG,92:COP,93:CSX,94:ENPH,95:ETSY,96:HBAN,97:TEVA,98:CME,99:PTC,"
     ]
    }
   ],
   "source": [
    "# iterate over each symbol\n",
    "for i in Symbols:  \n",
    "    \n",
    "    # print the symbol which is being downloaded\n",
    "    print( str(Symbols.index(i)) + str(':') + i , end=',', flush=True)  \n",
    "    \n",
    "    try:\n",
    "        # download the stock price (from yahoo finance)\n",
    "       \n",
    "        stock = yf.download(i, start=start, end=end , progress=False)\n",
    "        \n",
    "        # append the individual stock prices \n",
    "        if len(stock) == 0:\n",
    "            None\n",
    "        else:\n",
    "            stock['Name']=i\n",
    "            DBMAINnew = DBMAINnew.append(stock, sort=False)\n",
    "    except Exception:\n",
    "        None"
   ]
  },
  {
   "cell_type": "code",
   "execution_count": 12,
   "id": "4c31b3fd",
   "metadata": {},
   "outputs": [
    {
     "data": {
      "text/plain": [
       "100"
      ]
     },
     "execution_count": 12,
     "metadata": {},
     "output_type": "execute_result"
    }
   ],
   "source": [
    "stock_number=Symbols.index(i)+1\n",
    "stock_number"
   ]
  },
  {
   "cell_type": "markdown",
   "id": "430a0772-e278-43f5-92de-32afb087e0a0",
   "metadata": {},
   "source": [
    "# DAILY DATABASE\n"
   ]
  },
  {
   "cell_type": "code",
   "execution_count": 13,
   "id": "4f19b640",
   "metadata": {},
   "outputs": [],
   "source": [
    "DBMAINnew.to_csv(DBPath + 'DBmainnew.csv')"
   ]
  },
  {
   "cell_type": "code",
   "execution_count": 14,
   "id": "00192759",
   "metadata": {},
   "outputs": [],
   "source": [
    "DBMAINnew['Date'] = DBMAINnew.index\n",
    "\n"
   ]
  },
  {
   "cell_type": "code",
   "execution_count": 15,
   "id": "9392b36f",
   "metadata": {},
   "outputs": [],
   "source": [
    "DBMAINnew['Date'] = DBMAINnew['Date'].astype(str)"
   ]
  },
  {
   "cell_type": "code",
   "execution_count": 16,
   "id": "7827879c",
   "metadata": {},
   "outputs": [],
   "source": [
    "\n",
    "\n",
    "DBMAINfinal = pd.concat([DBMAIN, DBMAINnew])"
   ]
  },
  {
   "cell_type": "code",
   "execution_count": 17,
   "id": "8f1e473d",
   "metadata": {},
   "outputs": [],
   "source": [
    "DBMAINfinal.reset_index(drop=True, inplace=True)"
   ]
  },
  {
   "cell_type": "code",
   "execution_count": 18,
   "id": "aafd1e1e",
   "metadata": {},
   "outputs": [],
   "source": [
    "DBMAINfinal = DBMAINfinal.sort_values(by=['Name', 'Date'],inplace=False)"
   ]
  },
  {
   "cell_type": "code",
   "execution_count": 19,
   "id": "bcf30674",
   "metadata": {},
   "outputs": [],
   "source": [
    "DBMAINfinal.rename({'Adj Close': 'Adj_Close'}, axis='columns').to_csv(DBPath + 'DBMAINfinal.csv')"
   ]
  },
  {
   "cell_type": "code",
   "execution_count": 20,
   "id": "59c0e76f",
   "metadata": {},
   "outputs": [],
   "source": [
    "# CREATING DBMAINfinal END #\n"
   ]
  },
  {
   "cell_type": "code",
   "execution_count": 21,
   "id": "f4995e1c",
   "metadata": {},
   "outputs": [],
   "source": [
    "# Read CSV File to DB\n",
    "DBMAINfinal = pd.read_csv(DBPath + 'DBMAINfinal.csv')\n",
    "DBMAINfinal=DBMAINfinal.drop('Unnamed: 0',axis=1)\n"
   ]
  },
  {
   "cell_type": "code",
   "execution_count": 22,
   "id": "fb79aa34",
   "metadata": {},
   "outputs": [],
   "source": [
    "DBMAINfinal['Ref'] = DBMAINfinal['Name'] + DBMAINfinal['Date']"
   ]
  },
  {
   "cell_type": "code",
   "execution_count": 23,
   "id": "f30a5fee",
   "metadata": {},
   "outputs": [
    {
     "data": {
      "text/plain": [
       "['Date',\n",
       " 'Open',\n",
       " 'High',\n",
       " 'Low',\n",
       " 'Close',\n",
       " 'Adj_Close',\n",
       " 'Volume',\n",
       " 'Name',\n",
       " 'Ref',\n",
       " 'Year/Month/Week']"
      ]
     },
     "execution_count": 23,
     "metadata": {},
     "output_type": "execute_result"
    }
   ],
   "source": [
    "\n",
    "# Define titles for DB\n",
    "DBMAINfinal[\"Year/Month/Week\"] = DBMAINfinal['Name']  + DBMAINfinal['Date']\n",
    "title = list(DBMAINfinal.columns)\n",
    "title"
   ]
  },
  {
   "cell_type": "code",
   "execution_count": 24,
   "id": "dc208567",
   "metadata": {},
   "outputs": [],
   "source": [
    "# Reordering Titles\n",
    "title[0], title[1], title[2], title[3], title[4], title[5], title[6], title[7], title[8], title[9] = title[9],title[8], title[7], title[0], title[1], title[2], title[3], title[4], title[5], title[6]\n",
    "\n"
   ]
  },
  {
   "cell_type": "markdown",
   "id": "2a5ac012-33ea-45a3-a7d2-cf9814a7c037",
   "metadata": {},
   "source": [
    "## Saving Daily Data"
   ]
  },
  {
   "cell_type": "code",
   "execution_count": 25,
   "id": "01de7d9f",
   "metadata": {},
   "outputs": [],
   "source": [
    "DBdimPath = 'c:/Enigma/DataBase/'"
   ]
  },
  {
   "cell_type": "code",
   "execution_count": 26,
   "id": "8694ca81",
   "metadata": {},
   "outputs": [],
   "source": [
    "BTC_Data_Folder = 'c:/Enigma/DataBase/BTS/'"
   ]
  },
  {
   "cell_type": "code",
   "execution_count": 27,
   "id": "dd8c8357",
   "metadata": {},
   "outputs": [],
   "source": [
    "DBMAINfinal[title].to_csv(DBdimPath +'daily_db.csv', index=False ) "
   ]
  },
  {
   "cell_type": "code",
   "execution_count": 28,
   "id": "c0808ec7",
   "metadata": {},
   "outputs": [],
   "source": [
    "DBMAINfinal.to_csv(BTC_Data_Folder+'Ddb_Wdb_Ref.csv', columns=('Ref','Name','Date','Open', 'High', 'Low', 'Close', 'Adj_Close', 'Volume'),index=False) "
   ]
  },
  {
   "cell_type": "markdown",
   "id": "02eb0931",
   "metadata": {},
   "source": [
    "# WEEKLY & MONTHLY REFERANCE DATA REF\n",
    "\n"
   ]
  },
  {
   "cell_type": "code",
   "execution_count": 29,
   "id": "ee5c2ae6",
   "metadata": {},
   "outputs": [],
   "source": [
    "mwdb = pd.read_csv(DBdimPath + 'daily_db.csv')\n",
    "mwdb[\"Ref\"] = \"\"\n",
    "\n",
    "#mwdb.to_csv('/Users/assaf/Documents/Enigma DB/mwdb.csv', index=False)\n",
    "\n",
    "#mwdb.drop('Unnamed: 0', inplace=True, axis=1)\n",
    "\n",
    "mwdbtitle= list(mwdb.columns)"
   ]
  },
  {
   "cell_type": "code",
   "execution_count": 30,
   "id": "41795b3c",
   "metadata": {},
   "outputs": [],
   "source": [
    "# Adding Relevant Columns End #\n",
    "\n",
    "# Setting Ref. Number #\n",
    "\n",
    "# Adding Year / Month / Weeks / Days #"
   ]
  },
  {
   "cell_type": "code",
   "execution_count": 31,
   "id": "8dbedd63",
   "metadata": {},
   "outputs": [],
   "source": [
    "mwdb['Ref'] = mwdb['Name'] + mwdb['Date']"
   ]
  },
  {
   "cell_type": "code",
   "execution_count": 32,
   "id": "1542116a",
   "metadata": {},
   "outputs": [],
   "source": [
    "mwdb['Date'] =  pd.to_datetime(mwdb['Date'], format='%Y-%m-%d')"
   ]
  },
  {
   "cell_type": "code",
   "execution_count": 33,
   "id": "070145a7",
   "metadata": {},
   "outputs": [],
   "source": [
    "mwdb['y'] = mwdb['Date'].apply(lambda x: '{0}'.format(x.year, x.isocalendar()))\n"
   ]
  },
  {
   "cell_type": "code",
   "execution_count": 34,
   "id": "7b5bd929",
   "metadata": {},
   "outputs": [],
   "source": [
    "mwdb['m'] = mwdb['Date'].apply(lambda x: '{0}'.format(x.month, x.isocalendar()))\n"
   ]
  },
  {
   "cell_type": "code",
   "execution_count": 35,
   "id": "48a6bd99",
   "metadata": {},
   "outputs": [],
   "source": [
    "mwdb['w'] = mwdb['Date'].apply(lambda x: '{0}'.format(x.week, x.isocalendar()))\n"
   ]
  },
  {
   "cell_type": "code",
   "execution_count": 36,
   "id": "2e661291",
   "metadata": {},
   "outputs": [],
   "source": [
    "mwdb[\"Year/Month\"] = mwdb['Name'] + mwdb['y'] + mwdb['m']"
   ]
  },
  {
   "cell_type": "code",
   "execution_count": 37,
   "id": "24f6d469",
   "metadata": {},
   "outputs": [],
   "source": [
    "mwdb[\"Year/Month/Week\"] = mwdb['Name'] + mwdb['y'] + mwdb['m']+mwdb['w']"
   ]
  },
  {
   "cell_type": "code",
   "execution_count": 38,
   "id": "e28b78e5",
   "metadata": {},
   "outputs": [],
   "source": [
    "mwdb[\"week_day\"] =mwdb['Date'].dt.dayofweek"
   ]
  },
  {
   "cell_type": "code",
   "execution_count": 39,
   "id": "3ba01e30",
   "metadata": {},
   "outputs": [],
   "source": [
    "count=0\n",
    "mwdb[\"group_index\"] = 0 \n",
    "\n",
    "while count < 500:\n",
    "    \n",
    "    mwdb.loc[(mwdb[\"week_day\"]< mwdb[\"week_day\"].shift(1)), 'group_index'] = mwdb[\"Ref\"]\n",
    "   \n",
    "\n",
    "    count = count+1\n",
    "\n",
    "\n",
    "    \n"
   ]
  },
  {
   "cell_type": "code",
   "execution_count": 40,
   "id": "792fa599",
   "metadata": {},
   "outputs": [],
   "source": [
    "count=0\n",
    "\n",
    "\n",
    "while count < 500:\n",
    "    \n",
    "    mwdb.loc[(mwdb[\"group_index\"]!= 0), 'group_index_ref'] = mwdb[\"group_index\"]\n",
    "    mwdb.loc[(mwdb[\"group_index\"]== 0), 'group_index_ref'] = mwdb[\"group_index_ref\"].shift(1)\n",
    "   \n",
    "\n",
    "    count = count+1\n",
    "    "
   ]
  },
  {
   "cell_type": "markdown",
   "id": "ad4aa8a6",
   "metadata": {},
   "source": [
    "# MONTHLY DATABASE"
   ]
  },
  {
   "cell_type": "code",
   "execution_count": 41,
   "id": "86c4ef00",
   "metadata": {},
   "outputs": [],
   "source": [
    "mdb = pd.DataFrame()"
   ]
  },
  {
   "cell_type": "code",
   "execution_count": 42,
   "id": "ec8d8447",
   "metadata": {},
   "outputs": [],
   "source": [
    "mdb[\"Name\"] = \"\"\n",
    "mdb[\"Date\"] = \"\"\n",
    "mdb[\"Open\"] = \"\"\n",
    "mdb[\"High\"] = \"\"\n",
    "mdb[\"Low\"] = \"\"\n",
    "mdb[\"Close\"] = \"\"\n",
    "mdb[\"Adj_Close\"] = \"\"\n",
    "mdb[\"Volume\"] = \"\"\n",
    "mdb[\"Ref\"] = \"\""
   ]
  },
  {
   "cell_type": "code",
   "execution_count": 43,
   "id": "fa3cf954",
   "metadata": {},
   "outputs": [],
   "source": [
    "mdb[\"High\"] = mwdb.groupby(mwdb[\"Year/Month\"]).High.max()\n",
    "mdb[\"Low\"] = mwdb.groupby(mwdb[\"Year/Month\"]).Low.min()\n",
    "mdb[\"Volume\"]  = mwdb.groupby(mwdb[\"Year/Month\"]).Volume.sum()\n",
    "mdb[\"Close\"] = mwdb.groupby(mwdb[\"Year/Month\"]).Close.last()\n",
    "mdb[\"Open\"] = mwdb.groupby(mwdb[\"Year/Month\"]).Open.first()\n",
    "mdb[\"Name\"] = mwdb.groupby(mwdb[\"Year/Month\"]).Name.last()\n",
    "mdb[\"Date\"] = mwdb.groupby(mwdb[\"Year/Month\"]).Date.last()\n",
    "mdb[\"Adj_Close\"] = mwdb.groupby(mwdb[\"Year/Month\"]).Adj_Close.last()\n",
    "mdb[\"Ref\"] = mwdb.groupby(mwdb[\"Year/Month\"]).Ref.last()\n"
   ]
  },
  {
   "cell_type": "code",
   "execution_count": 44,
   "id": "df74a493",
   "metadata": {},
   "outputs": [],
   "source": [
    "mdb['Date'] =  pd.to_datetime(mdb['Date'], format='%d-%m-%y')\n"
   ]
  },
  {
   "cell_type": "code",
   "execution_count": 45,
   "id": "0f892cdf",
   "metadata": {},
   "outputs": [],
   "source": [
    "mdb.sort_values(by=['Name', 'Date'],inplace=True)"
   ]
  },
  {
   "cell_type": "markdown",
   "id": "a23a198e-5350-4dce-99c7-eff586690fa9",
   "metadata": {},
   "source": [
    "## Saving Monthly Database "
   ]
  },
  {
   "cell_type": "code",
   "execution_count": 46,
   "id": "430408bc",
   "metadata": {},
   "outputs": [],
   "source": [
    "mdb.to_csv(DBdimPath + 'monthly_db.csv')\n"
   ]
  },
  {
   "cell_type": "markdown",
   "id": "59559415",
   "metadata": {},
   "source": [
    "# REF TO WEEKLY DATABASE\n"
   ]
  },
  {
   "cell_type": "code",
   "execution_count": 47,
   "id": "2112e34e",
   "metadata": {},
   "outputs": [],
   "source": [
    "# Weekly DATABASE CREATION\n",
    "wdb = pd.DataFrame()"
   ]
  },
  {
   "cell_type": "code",
   "execution_count": 48,
   "id": "ce244ead",
   "metadata": {},
   "outputs": [],
   "source": [
    "mwdb.to_csv(BTC_Data_Folder+'mwdb.csv', columns=('Ref','Name','Date','Open', 'High', 'Low', 'Close', 'Adj_Close', 'Volume','group_index_ref'), index= False)   "
   ]
  },
  {
   "cell_type": "code",
   "execution_count": 49,
   "id": "3fc2d7a1",
   "metadata": {},
   "outputs": [],
   "source": [
    "#wdb[\"Name\"] = \"\"\n",
    "#wdb[\"Date\"] = \"\"\n",
    "#wdb[\"Open\"] = \"\"\n",
    "#wdb[\"High\"] = \"\"\n",
    "#wdb[\"Low\"] = \"\"\n",
    "#wdb[\"Close\"] = \"\"\n",
    "#wdb[\"Adj_Close\"] = \"\"\n",
    "#wdb[\"Volume\"] = \"\"\n",
    "#wdb[\"Ref\"] = \"\""
   ]
  },
  {
   "cell_type": "code",
   "execution_count": 50,
   "id": "8688f18f",
   "metadata": {},
   "outputs": [],
   "source": [
    "#wdb[\"High\"] = mwdb.groupby(mwdb[\"group_index_ref\"]).High.max()\n",
    "#wdb[\"Low\"] = mwdb.groupby(mwdb[\"group_index_ref\"]).Low.min()\n",
    "#wdb[\"Volume\"] = mwdb.groupby(mwdb[\"group_index_ref\"]).Volume.sum()\n",
    "#wdb[\"Close\"] = mwdb.groupby(mwdb[\"group_index_ref\"]).Close.last()\n",
    "#wdb[\"Open\"] = mwdb.groupby(mwdb[\"group_index_ref\"]).Open.first()\n",
    "#wdb[\"Name\"] = mwdb.groupby(mwdb[\"group_index_ref\"]).Name.last()\n",
    "#wdb[\"Date\"] = mwdb.groupby(mwdb[\"group_index_ref\"]).Date.last()\n",
    "#wdb[\"Adj_Close\"] = mwdb.groupby(mwdb[\"group_index_ref\"]).Adj_Close.last()\n",
    "#wdb[\"Ref\"] = mwdb.groupby(mwdb[\"group_index_ref\"]).Ref.last()"
   ]
  },
  {
   "cell_type": "code",
   "execution_count": 51,
   "id": "1a36427e",
   "metadata": {},
   "outputs": [],
   "source": [
    "#wdb['Date'] =  pd.to_datetime(wdb['Date'], format='%d-%m-%y')"
   ]
  },
  {
   "cell_type": "code",
   "execution_count": 52,
   "id": "0d955c52",
   "metadata": {},
   "outputs": [],
   "source": [
    "#wdb.sort_values(by=['Name', 'Date'],inplace=True)"
   ]
  },
  {
   "cell_type": "code",
   "execution_count": 53,
   "id": "fd3b90b0",
   "metadata": {},
   "outputs": [],
   "source": [
    "#wdb.to_csv(DBdimPath + 'weekly_db.csv')"
   ]
  },
  {
   "cell_type": "code",
   "execution_count": null,
   "id": "34621070",
   "metadata": {},
   "outputs": [],
   "source": []
  },
  {
   "cell_type": "code",
   "execution_count": null,
   "id": "d6e63892",
   "metadata": {},
   "outputs": [],
   "source": []
  }
 ],
 "metadata": {
  "kernelspec": {
   "display_name": "Python 3 (ipykernel)",
   "language": "python",
   "name": "python3"
  },
  "language_info": {
   "codemirror_mode": {
    "name": "ipython",
    "version": 3
   },
   "file_extension": ".py",
   "mimetype": "text/x-python",
   "name": "python",
   "nbconvert_exporter": "python",
   "pygments_lexer": "ipython3",
   "version": "3.9.7"
  }
 },
 "nbformat": 4,
 "nbformat_minor": 5
}
